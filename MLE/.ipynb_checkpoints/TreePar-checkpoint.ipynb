{
 "cells": [
  {
   "cell_type": "markdown",
   "metadata": {},
   "source": [
    "# Imports"
   ]
  },
  {
   "cell_type": "code",
   "execution_count": null,
   "metadata": {
    "ExecuteTime": {
     "end_time": "2024-11-20T07:56:50.072467Z",
     "start_time": "2024-11-20T07:56:49.840Z"
    },
    "scrolled": true
   },
   "outputs": [],
   "source": [
    "library(ape)\n",
    "library(TreePar)\n",
    "library(purrr)\n",
    "library(stats)\n",
    "library(data.table)\n",
    "library(xlsx)\n",
    "library(readxl)"
   ]
  },
  {
   "cell_type": "markdown",
   "metadata": {},
   "source": [
    "# AIC function"
   ]
  },
  {
   "cell_type": "code",
   "execution_count": null,
   "metadata": {
    "ExecuteTime": {
     "end_time": "2024-11-20T07:47:52.881147Z",
     "start_time": "2024-11-20T07:46:39.955Z"
    }
   },
   "outputs": [],
   "source": [
    "AIC <- function(Lik, k) {\n",
    "    AIC <- 2*k -2*(-Lik)\n",
    "    return(AIC)\n",
    "}"
   ]
  },
  {
   "cell_type": "code",
   "execution_count": null,
   "metadata": {},
   "outputs": [],
   "source": [
    "measure_loop_time <- function(loop_code) {\n",
    "  # Medimos el tiempo total y el uso de CPU con system.time()\n",
    "  cpu_usage <- system.time(eval(loop_code))\n",
    "  \n",
    "  return(list(\n",
    "    elapsed_time = cpu_usage[3],\n",
    "    cpu_user_time = cpu_usage[1],\n",
    "    cpu_system_time = cpu_usage[2]\n",
    "  ))\n",
    "}"
   ]
  },
  {
   "cell_type": "markdown",
   "metadata": {},
   "source": [
    "# Get values"
   ]
  },
  {
   "cell_type": "code",
   "execution_count": null,
   "metadata": {},
   "outputs": [],
   "source": [
    "get_res_oneshift <- function(res) {\n",
    "    vector <- unlist(res[[2]])\n",
    "    likelihood <- vector[4]\n",
    "    aic <- AIC(likelihood, 5)\n",
    "    elem_1 <- vector[5]\n",
    "    elem_2 <- vector[6]\n",
    "    elem_3 <- vector[7]\n",
    "    elem_4 <- vector[8]\n",
    "    elem_5 <- vector[9]\n",
    "    return(list(likelihood, aic, elem_1, elem_2, elem_3, elem_4, elem_5))\n",
    "}"
   ]
  },
  {
   "cell_type": "code",
   "execution_count": null,
   "metadata": {},
   "outputs": [],
   "source": [
    "get_res_cons_bd <- function(res) {\n",
    "    vector <- unlist(res[[2]])\n",
    "    likelihood <- vector[1]\n",
    "    aic <- AIC(likelihood, 2)\n",
    "    elem_1 <- vector[2]\n",
    "    elem_2 <- vector[3]\n",
    "    return(list(likelihood, aic, elem_1, elem_2))\n",
    "}"
   ]
  },
  {
   "cell_type": "code",
   "execution_count": null,
   "metadata": {},
   "outputs": [],
   "source": [
    "get_res_me <- function(res) {\n",
    "    vector <- unlist(res[[2]])\n",
    "    likelihood <- vector[4]\n",
    "    aic <- AIC(likelihood, 4)\n",
    "    elem_1 <- vector[5]\n",
    "    elem_2 <- vector[6]\n",
    "    elem_3 <- vector[7]\n",
    "    elem_4 <- vector[8]\n",
    "    return(list(likelihood, aic, elem_1, elem_2, elem_3, elem_4))\n",
    "}"
   ]
  },
  {
   "cell_type": "code",
   "execution_count": null,
   "metadata": {
    "scrolled": true
   },
   "outputs": [],
   "source": [
    "get_mle_results <- function(){\n",
    "    quote(for(i in seq_along(treefiles)) {\n",
    "        model <- treefiles[[i]]\n",
    "        lines <- readLines(treefiles[[i]])\n",
    "\n",
    "        # Same for every node\n",
    "        rho = 1\n",
    "        grid = 0.2\n",
    "\n",
    "        print(scenario)\n",
    "        \n",
    "        print(paste(\"--- Testing\", scenario , \"for\", model))\n",
    "        likelihood <- list()\n",
    "        aic <- list()\n",
    "        elem_1 <- list()\n",
    "        elem_2 <- list()\n",
    "        if (scenario == \"OneShift\" || scenario == \"ME\") {\n",
    "            elem_3 <- list()\n",
    "            elem_4 <- list()\n",
    "            if (scenario == \"OneShift\"){\n",
    "                elem_5 <- list()\n",
    "            }\n",
    "        }\n",
    "\n",
    "        for (i in 1:length(lines)) {\n",
    "            # Read tree\n",
    "            tr <- read.tree(text = lines[i])\n",
    "            tr <- getx(tr)\n",
    "\n",
    "            start <- tr[1]\n",
    "            end <- tr[as.numeric(n_tips)-1]\n",
    "\n",
    "            print(paste(\"Model:\", model, \"tree num:\", i))\n",
    "            flush.console()\n",
    "            \n",
    "            if (scenario == \"OneShift\") {\n",
    "                res <- bd.shifts.optim(tr, c(1,1), grid, start, end, ME=FALSE, survival=1)\n",
    "                res = get_res_oneshift(res)\n",
    "            }\n",
    "            else if (scenario == \"OneShift\" || scenario == \"ME\") {\n",
    "                res <- bd.shifts.optim(tr, rho, c(1), grid, start, end)\n",
    "                if (scenario == \"OneShift\") {\n",
    "                    res = get_res_cons_bd(res)\n",
    "                }\n",
    "                else {\n",
    "                    res = get_res_me(res)\n",
    "                }\n",
    "            }\n",
    "            sink()\n",
    "\n",
    "            # Save results\n",
    "            likelihood[[i]] <- res[1]\n",
    "            aic[[i]] <- res[2]\n",
    "            elem_1[[i]] <- res[3]\n",
    "            elem_2[[i]] <- res[4]\n",
    "            if (scenario == \"OneShift\" || scenario == \"ME\") {\n",
    "                elem_3[[i]] <- res[5]\n",
    "                elem_4[[i]] <- res[6]\n",
    "                if (scenario == \"OneShift\"){\n",
    "                    elem_5[[i]] <- res[7]\n",
    "                }\n",
    "            }\n",
    "        }\n",
    "\n",
    "        # Save to .xlsx\n",
    "        if (scenario == \"OneShift\"){\n",
    "            res_list = list(likelihood, aic, elem_1, elem_2, elem_3, elem_4, elem_5)\n",
    "            col_names <- c(\"likelihood\", \"AIC\", \"elem_1\", \"elem_2\", \"elem_3\", \"elem_4\", \"elem_5\")\n",
    "        }\n",
    "        else if (scenario == \"BD\"){\n",
    "            res_list = list(likelihood, aic, elem_1, elem_2)\n",
    "            col_names <- c(\"likelihood_BD\", \"AIC\", \"elem_1\", \"elem_2\")\n",
    "        }\n",
    "        else if (scenario == \"ME\"){\n",
    "            res_list = list(likelihood, aic, elem_1, elem_2, elem_3, elem_4)\n",
    "            col_names <- c(\"likelihood_ME\", \"AIC\", \"elem_1\", \"elem_2\", \"elem_3\", \"elem_4\")\n",
    "        }\n",
    "        \n",
    "        df <- t(do.call(rbind, res_list))\n",
    "        data.frame(df)\n",
    "        \n",
    "        colnames(df) <- col_names\n",
    "        file <- paste0(\"oneshift_\", n_tips, \"_\", substr(model, 1, 2), \".xlsx\") \n",
    "        write.xlsx(df, file)    \n",
    "    })\n",
    "}"
   ]
  },
  {
   "cell_type": "markdown",
   "metadata": {},
   "source": [
    "# Read trees"
   ]
  },
  {
   "cell_type": "code",
   "execution_count": null,
   "metadata": {},
   "outputs": [],
   "source": [
    "extract_trees <- function(files, n_tips) {\n",
    "    for(i in seq_along(files)) {\n",
    "        df <- read.csv(files[[i]], sep = \"|\")\n",
    "        list <- as.list(df[, 9])\n",
    "        print(files[[i]])\n",
    "        trees_char <- lapply(list, as.character)\n",
    "        treefile <- paste0(n_tips, \"_\", substr(files[i], 5, 6), \"_100.tree\")\n",
    "        writeLines(unlist(trees_char), treefile)    \n",
    "    }\n",
    "}"
   ]
  },
  {
   "cell_type": "markdown",
   "metadata": {},
   "source": [
    "# Run inference"
   ]
  },
  {
   "cell_type": "code",
   "execution_count": null,
   "metadata": {},
   "outputs": [],
   "source": [
    "n_tips = c(\"674\", \"489\", \"87\")\n",
    "\n",
    "for(n_tip in n_tips) {\n",
    "    files <- list(paste0(n_tip, \"/BD_sim_\", n_tip, \"_TreePar.csv\"),\n",
    "                  paste0(n_tip, \"/HE_sim_\", n_tip, \"_TreePar.csv\"),\n",
    "                  paste0(n_tip, \"/ME_sim_\", n_tip, \"_TreePar.csv\"),\n",
    "                  paste0(n_tip, \"/SAT_sim_\", n_tip, \"_TreePar.csv\"),\n",
    "                  paste0(n_tip, \"/SR_sim_\", n_tip, \"_TreePar.csv\"),\n",
    "                  paste0(n_tip, \"/WW_sim_\", n_tip, \"_TreePar.csv\"))\n",
    "    \n",
    "    extract_trees(files, n_tip)\n",
    "    \n",
    "    treefiles <- list(paste0(n_tip, \"_BD_100.tree\"),\n",
    "                      paste0(n_tip, \"_HE_100.tree\"),\n",
    "                      paste0(n_tip, \"_ME_100.tree\"),\n",
    "                      paste0(n_tip, \"_SAT_100.tree\"),\n",
    "                      paste0(n_tip, \"_SR_100.tree\"),\n",
    "                      paste0(n_tip, \"_WW_100.tree\"))\n",
    "    \n",
    "    for(scenario in c(\"OneShift\", \"BD\", \"HE\")){\n",
    "        time <- measure_loop_time(get_mle_results())\n",
    "    \n",
    "        print(paste(\"Total time:\", time$elapsed_time, \"segundos\"))\n",
    "        print(paste(\"User time CPU:\", time$cpu_user_time, \"segundos\"))\n",
    "        print(paste(\"System time CPU:\", time$cpu_system_time, \"segundos\"))\n",
    "    }\n",
    "}"
   ]
  },
  {
   "cell_type": "markdown",
   "metadata": {},
   "source": [
    "## Get all likelihoods and AICs for each model "
   ]
  },
  {
   "cell_type": "code",
   "execution_count": null,
   "metadata": {},
   "outputs": [],
   "source": [
    "n_tips = c(\"674\", \"489\", \"87\")\n",
    "\n",
    "for(n_tip in n_tips) {\n",
    "    results <- list(\"BD\", \"HE\", \"ME\", \"SA\", \"SR\", \"WW\")\n",
    "\n",
    "    for(i in seq_along(results)) {\n",
    "        model <- results[[i]]\n",
    "            \n",
    "        df_oneshift <- read.xlsx2(paste0(\"oneshift_\", n_tip, \"_\", model, \".xlsx\"), 1)\n",
    "        df_constant <- read.xlsx2(\"constant_\", n_tip, \"_\", model, \".xlsx\", 1)\n",
    "        df_constant[, c('foo1', 'foo2', 'foo3')] = NA\n",
    "        df_me <- read.xlsx2(paste0(\"ME_\", n_tip, \"_\", model, \".xlsx\"), 1)\n",
    "        df_me[, c('foo1')] = NA\n",
    "        print(paste(model, \"excel read\"))  \n",
    "        df_total <- cbind(df_oneshift$likelihood_one_shift, df_constant$likelihood_BD, df_me$likelihood_ME, \n",
    "                             df_oneshift$AICS_ONE_SHIFT, df_constant$AICS_BD, df_me$AICS_ME)\n",
    "        nombres_columnas <- c(\"likelihood_ONE_SHIFT\", \"likelihood_BD\", \"likelihood_ME\", \"AICs_one_shift\", \"AICs_BD\", \"AICs_ME\")\n",
    "        colnames(df_total) <- nombres_columnas\n",
    "        write.xlsx(df_total, paste0(\"total_\", n_tip, \"_\", model, \".xlsx\"))\n",
    "    }\n",
    "}"
   ]
  },
  {
   "cell_type": "code",
   "execution_count": null,
   "metadata": {},
   "outputs": [],
   "source": []
  }
 ],
 "metadata": {
  "kernelspec": {
   "display_name": "R",
   "language": "R",
   "name": "ir"
  },
  "language_info": {
   "codemirror_mode": "r",
   "file_extension": ".r",
   "mimetype": "text/x-r-source",
   "name": "R",
   "pygments_lexer": "r",
   "version": "4.3.1"
  },
  "toc": {
   "base_numbering": 1,
   "nav_menu": {},
   "number_sections": false,
   "sideBar": true,
   "skip_h1_title": false,
   "title_cell": "Table of Contents",
   "title_sidebar": "Contents",
   "toc_cell": false,
   "toc_position": {},
   "toc_section_display": true,
   "toc_window_display": false
  },
  "varInspector": {
   "cols": {
    "lenName": 16,
    "lenType": 16,
    "lenVar": 40
   },
   "kernels_config": {
    "python": {
     "delete_cmd_postfix": "",
     "delete_cmd_prefix": "del ",
     "library": "var_list.py",
     "varRefreshCmd": "print(var_dic_list())"
    },
    "r": {
     "delete_cmd_postfix": ") ",
     "delete_cmd_prefix": "rm(",
     "library": "var_list.r",
     "varRefreshCmd": "cat(var_dic_list()) "
    }
   },
   "types_to_exclude": [
    "module",
    "function",
    "builtin_function_or_method",
    "instance",
    "_Feature"
   ],
   "window_display": false
  }
 },
 "nbformat": 4,
 "nbformat_minor": 5
}
