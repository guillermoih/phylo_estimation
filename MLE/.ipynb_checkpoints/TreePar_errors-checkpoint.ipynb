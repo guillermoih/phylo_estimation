{
 "cells": [
  {
   "cell_type": "code",
   "execution_count": 1,
   "metadata": {},
   "outputs": [],
   "source": [
    "import numpy as np\n",
    "import pandas as pd\n",
    "import matplotlib.pyplot as plt\n",
    "import seaborn as sns "
   ]
  },
  {
   "cell_type": "code",
   "execution_count": 2,
   "metadata": {},
   "outputs": [],
   "source": [
    "def get_MAE(y_pred, y_real):\n",
    "    total = 0\n",
    "    for y_pred_i, y_real_i in zip(y_pred, y_real):\n",
    "        total += abs(y_pred_i - y_real_i) \n",
    "    return total/len(y_pred)"
   ]
  },
  {
   "cell_type": "code",
   "execution_count": 3,
   "metadata": {},
   "outputs": [],
   "source": [
    "def get_MAE_plot(scenario, y_pred, y_real):\n",
    "    total = []\n",
    "    for y_pred_i, y_real_i in zip(y_pred, y_real):\n",
    "        MAE_values = abs(y_pred_i - y_real_i) \n",
    "        total.append(MAE_values)\n",
    "        \n",
    "    if scenario == 'BD' or scenario == 'HE' or scenario == 'ME':\n",
    "        sns.boxplot([array[0] for array in total], showmeans=True, meanprops={'markersize':'8'})\n",
    "        plt.title('Turnover(a)')\n",
    "        plt.show()\n",
    "        sns.boxplot([array[1] for array in total], showmeans=True, meanprops={'markersize':'8'}) \n",
    "        plt.title('Diversification(r)')\n",
    "        plt.show()\n",
    "        sns.boxplot([array[2] for array in total], showmeans=True, meanprops={'markersize':'8'})\n",
    "        plt.title('lambda')    \n",
    "        plt.show()\n",
    "        sns.boxplot([array[3] for array in total], showmeans=True, meanprops={'markersize':'8'}) \n",
    "        plt.title('mu')    \n",
    "        plt.show()\n",
    "        \n",
    "        if scenario == 'ME':\n",
    "            sns.boxplot([array[2] for array in total], showmeans=True, meanprops={'markersize':'8'})\n",
    "            plt.title('time')    \n",
    "            plt.show()\n",
    "            sns.boxplot([array[3] for array in total], showmeans=True, meanprops={'markersize':'8'}) \n",
    "            plt.title('rho')    \n",
    "            plt.show()\n",
    "            \n",
    "    elif scenario == 'SR' or scenario == 'WW':\n",
    "        sns.boxplot([array[0] for array in total], showmeans=True, meanprops={'markersize':'8'})\n",
    "        plt.title('a0')\n",
    "        plt.show()\n",
    "        sns.boxplot([array[1] for array in total], showmeans=True, meanprops={'markersize':'8'}) \n",
    "        plt.title('a1')\n",
    "        plt.show()\n",
    "        sns.boxplot([array[2] for array in total], showmeans=True, meanprops={'markersize':'8'})\n",
    "        plt.title('r0')    \n",
    "        plt.show()\n",
    "        sns.boxplot([array[3] for array in total], showmeans=True, meanprops={'markersize':'8'}) \n",
    "        plt.title('r1')    \n",
    "        plt.show()\n",
    "        sns.boxplot([array[4] for array in total], showmeans=True, meanprops={'markersize':'8'}) \n",
    "        plt.title('time')    \n",
    "        plt.show()\n",
    "        sns.boxplot([array[5] for array in total], showmeans=True, meanprops={'markersize':'8'}) \n",
    "        plt.title('lambda0')    \n",
    "        plt.show()\n",
    "        sns.boxplot([array[6] for array in total], showmeans=True, meanprops={'markersize':'8'}) \n",
    "        plt.title('lambda1')    \n",
    "        plt.show()\n",
    "        sns.boxplot([array[7] for array in total], showmeans=True, meanprops={'markersize':'8'}) \n",
    "        plt.title('mu0')    \n",
    "        plt.show()\n",
    "        sns.boxplot([array[8] for array in total], showmeans=True, meanprops={'markersize':'8'}) \n",
    "        plt.title('mu1')    \n",
    "        plt.show()"
   ]
  },
  {
   "cell_type": "code",
   "execution_count": 4,
   "metadata": {},
   "outputs": [],
   "source": [
    "def extend_y_values(y_list):\n",
    "    mu = (y_list[:, 0]*y_list[:, 1])/(1-y_list[:, 0])\n",
    "    lamb = y_list[:, 1] + mu\n",
    "    y_list = np.column_stack((y_list, lamb, mu))       \n",
    "    return y_list"
   ]
  },
  {
   "cell_type": "markdown",
   "metadata": {},
   "source": [
    "* Parameter order\n",
    "    * a, r, lambda, mu "
   ]
  },
  {
   "cell_type": "code",
   "execution_count": null,
   "metadata": {},
   "outputs": [],
   "source": [
    "def extend_y_values_time(y_list):\n",
    "    mu0 = (y_list[:, 0]*y_list[:, 2])/(1-y_list[:, 0])\n",
    "    lamb0 = y_list[:, 2] + mu0\n",
    "    mu1 = (y_list[:, 1]*y_list[:, 3])/(1-y_list[:, 1])\n",
    "    lamb1 = y_list[:, 3] + mu1\n",
    "    y_list = np.column_stack((y_list, lamb0, lamb1, mu0, mu1))       \n",
    "    return y_list"
   ]
  },
  {
   "cell_type": "markdown",
   "metadata": {},
   "source": [
    "* Parameters order\n",
    "    * a0, a1, r0, r1, time, lambda0, lambda1, mu0, mu1  "
   ]
  },
  {
   "cell_type": "markdown",
   "metadata": {},
   "source": [
    "# Errors"
   ]
  },
  {
   "cell_type": "code",
   "execution_count": null,
   "metadata": {},
   "outputs": [],
   "source": [
    "scenario = 'BD'"
   ]
  },
  {
   "cell_type": "markdown",
   "metadata": {},
   "source": [
    "### get y_test"
   ]
  },
  {
   "cell_type": "code",
   "execution_count": 5,
   "metadata": {},
   "outputs": [
    {
     "data": {
      "text/plain": [
       "(100, 4)"
      ]
     },
     "execution_count": 5,
     "metadata": {},
     "output_type": "execute_result"
    }
   ],
   "source": [
    "df_test = pd.read_csv(\"C:/Users/7pabl/trabajo/TreePar/87/\", scenario, \"_sim_87_TreePar.csv\", sep = \"|\")\n",
    "\n",
    "if scenario == 'BD' or scenario == 'HE' or scenario == 'ME':\n",
    "    columns = df_test[['a0', 'r0']].values\n",
    "elif scenario == 'SR' or scenario == 'WW':\n",
    "    columns = df_test[['a0', 'a1', 'r0', 'r1', \"time\"]].values\n",
    "    \n",
    "y_test = np.array(columns.tolist())\n",
    "y_test = extend_y_values(y_test)\n",
    "y_test.shape"
   ]
  },
  {
   "cell_type": "markdown",
   "metadata": {},
   "source": [
    "### get y_pred "
   ]
  },
  {
   "cell_type": "code",
   "execution_count": 6,
   "metadata": {},
   "outputs": [
    {
     "name": "stderr",
     "output_type": "stream",
     "text": [
      "C:\\Users\\7pabl\\AppData\\Local\\Programs\\Python\\Python312\\Lib\\site-packages\\openpyxl\\styles\\stylesheet.py:241: UserWarning: Workbook contains no default style, apply openpyxl's default\n",
      "  warn(\"Workbook contains no default style, apply openpyxl's default\")\n"
     ]
    },
    {
     "data": {
      "text/plain": [
       "(100, 4)"
      ]
     },
     "execution_count": 6,
     "metadata": {},
     "output_type": "execute_result"
    }
   ],
   "source": [
    "df_pred = pd.read_excel(\"constant_87_\", scenario, \".xlsx\")\n",
    "if scenario == 'BD' or scenario == 'HE' or scenario == 'ME':\n",
    "    columns = df_pred[['elements_1', 'elements_2']].values\n",
    "elif scenario == 'SR' or scenario == 'WW':\n",
    "    columns = df_pred[['elements_1', 'elements_2', \"elements_3\", \"elements_4\", \"elements_5\"]].values\n",
    "\n",
    "y_pred = np.array(columns.tolist())\n",
    "y_pred = extend_y_values(y_pred)\n",
    "y_pred.shape"
   ]
  },
  {
   "cell_type": "markdown",
   "metadata": {},
   "source": [
    "### MAEs "
   ]
  },
  {
   "cell_type": "code",
   "execution_count": 7,
   "metadata": {},
   "outputs": [
    {
     "name": "stdout",
     "output_type": "stream",
     "text": [
      "[0.17053292 0.38800144 0.46391672 0.63675651]\n",
      "BD\n"
     ]
    },
    {
     "data": {
      "text/html": [
       "<div>\n",
       "<style scoped>\n",
       "    .dataframe tbody tr th:only-of-type {\n",
       "        vertical-align: middle;\n",
       "    }\n",
       "\n",
       "    .dataframe tbody tr th {\n",
       "        vertical-align: top;\n",
       "    }\n",
       "\n",
       "    .dataframe thead th {\n",
       "        text-align: right;\n",
       "    }\n",
       "</style>\n",
       "<table border=\"1\" class=\"dataframe\">\n",
       "  <thead>\n",
       "    <tr style=\"text-align: right;\">\n",
       "      <th></th>\n",
       "      <th>MAE</th>\n",
       "    </tr>\n",
       "  </thead>\n",
       "  <tbody>\n",
       "    <tr>\n",
       "      <th>a</th>\n",
       "      <td>0.170533</td>\n",
       "    </tr>\n",
       "    <tr>\n",
       "      <th>r</th>\n",
       "      <td>0.388001</td>\n",
       "    </tr>\n",
       "    <tr>\n",
       "      <th>lambda</th>\n",
       "      <td>0.463917</td>\n",
       "    </tr>\n",
       "    <tr>\n",
       "      <th>mu</th>\n",
       "      <td>0.636757</td>\n",
       "    </tr>\n",
       "  </tbody>\n",
       "</table>\n",
       "</div>"
      ],
      "text/plain": [
       "             MAE\n",
       "a       0.170533\n",
       "r       0.388001\n",
       "lambda  0.463917\n",
       "mu      0.636757"
      ]
     },
     "execution_count": 7,
     "metadata": {},
     "output_type": "execute_result"
    }
   ],
   "source": [
    "MAE = get_MAE(y_pred, y_test)\n",
    "print(MAE)\n",
    "if scenario == 'BD' or scenario == 'HE' or scenario == 'ME':\n",
    "    row = ['a', 'r', 'lambda', 'mu']\n",
    "elif scenario == 'SR' or scenario == 'WW':\n",
    "    row = ['a0', 'a1', 'r0', 'r1', 'time', 'lambda0', 'lambda1', 'mu0', 'mu1']\n",
    "    \n",
    "col = ['MAE']\n",
    "df = pd.DataFrame(MAE, columns=col, index= row)\n",
    "print(scenario)\n",
    "df"
   ]
  },
  {
   "cell_type": "code",
   "execution_count": 8,
   "metadata": {
    "scrolled": true
   },
   "outputs": [
    {
     "data": {
      "image/png": "[encoded data removed]",
      "text/plain": [
       "<Figure size 640x480 with 1 Axes>"
      ]
     },
     "metadata": {},
     "output_type": "display_data"
    },
    {
     "data": {
      "image/png": "[encoded data removed]",
      "text/plain": [
       "<Figure size 640x480 with 1 Axes>"
      ]
     },
     "metadata": {},
     "output_type": "display_data"
    },
    {
     "data": {
      "image/png": "[encoded data removed]",
      "text/plain": [
       "<Figure size 640x480 with 1 Axes>"
      ]
     },
     "metadata": {},
     "output_type": "display_data"
    },
    {
     "data": {
      "image/png": "[encoded data removed]",
      "text/plain": [
       "<Figure size 640x480 with 1 Axes>"
      ]
     },
     "metadata": {},
     "output_type": "display_data"
    },
    {
     "data": {
      "text/plain": [
       "(<Axes: title={'center': 'Turnover(a)'}>,\n",
       " <Axes: title={'center': 'Diversificación(r)'}>,\n",
       " <Axes: title={'center': 'lambda'}>,\n",
       " <Axes: title={'center': 'mu'}>)"
      ]
     },
     "execution_count": 8,
     "metadata": {},
     "output_type": "execute_result"
    }
   ],
   "source": [
    "get_MAE_plot(scenario, y_pred, y_test)"
   ]
  },
  {
   "cell_type": "markdown",
   "metadata": {},
   "source": [
    "### Classification"
   ]
  },
  {
   "cell_type": "code",
   "execution_count": 73,
   "metadata": {},
   "outputs": [
    {
     "name": "stderr",
     "output_type": "stream",
     "text": [
      "C:\\Users\\7pabl\\AppData\\Local\\Programs\\Python\\Python312\\Lib\\site-packages\\openpyxl\\styles\\stylesheet.py:241: UserWarning: Workbook contains no default style, apply openpyxl's default\n",
      "  warn(\"Workbook contains no default style, apply openpyxl's default\")\n"
     ]
    }
   ],
   "source": [
    "df_class = pd.read_excel(\"total_87_\", scenario, \".xlsx\")\n",
    "one_shift = df_class[\"AICs_one_shift\"]\n",
    "bd = df_class[\"AICs_BD\"]\n",
    "me = df_class[\"AICs_ME\"]"
   ]
  },
  {
   "cell_type": "code",
   "execution_count": 74,
   "metadata": {},
   "outputs": [
    {
     "name": "stderr",
     "output_type": "stream",
     "text": [
      "C:\\Users\\7pabl\\AppData\\Local\\Programs\\Python\\Python312\\Lib\\site-packages\\openpyxl\\styles\\stylesheet.py:241: UserWarning: Workbook contains no default style, apply openpyxl's default\n",
      "  warn(\"Workbook contains no default style, apply openpyxl's default\")\n",
      "C:\\Users\\7pabl\\AppData\\Local\\Programs\\Python\\Python312\\Lib\\site-packages\\openpyxl\\styles\\stylesheet.py:241: UserWarning: Workbook contains no default style, apply openpyxl's default\n",
      "  warn(\"Workbook contains no default style, apply openpyxl's default\")\n"
     ]
    }
   ],
   "source": [
    "df_constant = pd.read_excel(\"constant_87_\", scenario, \".xlsx\")\n",
    "df_one_shift = pd.read_excel(\"oneshift_87_\", scenario, \".xlsx\")"
   ]
  },
  {
   "cell_type": "code",
   "execution_count": 75,
   "metadata": {},
   "outputs": [],
   "source": [
    "class_as_bd = 0\n",
    "class_as_sr = 0\n",
    "class_as_me = 0 \n",
    "class_as_he = 0\n",
    "class_as_ww = 0 \n",
    "class_as_unknow = 0"
   ]
  },
  {
   "cell_type": "code",
   "execution_count": 76,
   "metadata": {},
   "outputs": [],
   "source": [
    "bd_index = []\n",
    "one_shift_index = []"
   ]
  },
  {
   "cell_type": "code",
   "execution_count": 81,
   "metadata": {},
   "outputs": [],
   "source": [
    "for i in range(len(one_shift)):\n",
    "    if bd[i] < one_shift[i] and bd[i] < me[i]:\n",
    "        bd_index.append(i)\n",
    "    elif one_shift[i] < bd[i] and one_shift[i] < me[i]:\n",
    "        one_shift_index.append(i)\n",
    "    elif me[i] < bd[i] and me[i] < one_shift[i]:\n",
    "        class_as_me += 1 \n",
    "    else:\n",
    "        print(\"algo no está bien\")"
   ]
  },
  {
   "cell_type": "code",
   "execution_count": 78,
   "metadata": {},
   "outputs": [],
   "source": [
    "for i in bd_index:\n",
    "    if df_constant[\"elements_1\"][i] > 0.8:\n",
    "        class_as_he += 1     \n",
    "    else:\n",
    "        class_as_bd += 1"
   ]
  },
  {
   "cell_type": "code",
   "execution_count": 79,
   "metadata": {},
   "outputs": [],
   "source": [
    "for i in one_shift_index:\n",
    "    if df_one_shift[\"elements_3\"][i] > 0 and df_one_shift[\"elements_4\"][i] > 0:\n",
    "        class_as_sr += 1\n",
    "    elif df_one_shift[\"elements_3\"][i] < 0 and df_one_shift[\"elements_4\"][i] > 0:\n",
    "        class_as_ww += 1\n",
    "    else: \n",
    "        class_as_unknow += 1"
   ]
  },
  {
   "cell_type": "code",
   "execution_count": 80,
   "metadata": {},
   "outputs": [
    {
     "name": "stdout",
     "output_type": "stream",
     "text": [
      "72 filogenias clasificadas como BD\n",
      "0 filogenias clasificadas como HE\n",
      "14 filogenias clasificadas como ME\n",
      "7 filogenias clasificadas como SR\n",
      "1 filogenias clasificadas como WW\n",
      "6 filogenias clasificadas como Unknow\n"
     ]
    }
   ],
   "source": [
    "print(f\"{class_as_bd} trees classified as BD\")\n",
    "print(f\"{class_as_he} trees classified as HE\")\n",
    "print(f\"{class_as_me} trees classified as ME\")\n",
    "print(f\"{class_as_sr} trees classified as SR\")\n",
    "print(f\"{class_as_ww} trees classified as WW\")\n",
    "print(f\"{class_as_unknow} trees classified as Unknow\")"
   ]
  }
 ],
 "metadata": {
  "kernelspec": {
   "display_name": "Python 3",
   "language": "python",
   "name": "python3"
  },
  "language_info": {
   "codemirror_mode": {
    "name": "ipython",
    "version": 3
   },
   "file_extension": ".py",
   "mimetype": "text/x-python",
   "name": "python",
   "nbconvert_exporter": "python",
   "pygments_lexer": "ipython3",
   "version": "3.8.5"
  },
  "toc": {
   "base_numbering": 1,
   "nav_menu": {},
   "number_sections": false,
   "sideBar": true,
   "skip_h1_title": false,
   "title_cell": "Table of Contents",
   "title_sidebar": "Contents",
   "toc_cell": false,
   "toc_position": {},
   "toc_section_display": true,
   "toc_window_display": false
  },
  "varInspector": {
   "cols": {
    "lenName": 16,
    "lenType": 16,
    "lenVar": 40
   },
   "kernels_config": {
    "python": {
     "delete_cmd_postfix": "",
     "delete_cmd_prefix": "del ",
     "library": "var_list.py",
     "varRefreshCmd": "print(var_dic_list())"
    },
    "r": {
     "delete_cmd_postfix": ") ",
     "delete_cmd_prefix": "rm(",
     "library": "var_list.r",
     "varRefreshCmd": "cat(var_dic_list()) "
    }
   },
   "types_to_exclude": [
    "module",
    "function",
    "builtin_function_or_method",
    "instance",
    "_Feature"
   ],
   "window_display": false
  }
 },
 "nbformat": 4,
 "nbformat_minor": 5
}
