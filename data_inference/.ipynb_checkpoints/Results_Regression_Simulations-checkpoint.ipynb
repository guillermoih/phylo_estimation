{
 "cells": [
  {
   "cell_type": "markdown",
   "metadata": {},
   "source": [
    "# Imports"
   ]
  },
  {
   "cell_type": "code",
   "execution_count": 34,
   "metadata": {
    "ExecuteTime": {
     "end_time": "2024-11-11T19:57:21.076308Z",
     "start_time": "2024-11-11T19:57:20.982591Z"
    }
   },
   "outputs": [],
   "source": [
    "%reload_ext autoreload\n",
    "%autoreload 2"
   ]
  },
  {
   "cell_type": "code",
   "execution_count": 84,
   "metadata": {
    "ExecuteTime": {
     "end_time": "2024-11-11T20:18:06.497453Z",
     "start_time": "2024-11-11T20:18:06.410485Z"
    }
   },
   "outputs": [],
   "source": [
    "import pickle\n",
    "import itertools\n",
    "import time\n",
    "import os\n",
    "import statistics\n",
    "from time import time\n",
    "\n",
    "import pandas as pd\n",
    "import numpy as np\n",
    "import matplotlib.pyplot as plt\n",
    "import seaborn as sns\n",
    "\n",
    "from evaluation.regression import generate_reg_results, get_regression_norm_results, get_regression_div_results"
   ]
  },
  {
   "cell_type": "code",
   "execution_count": 36,
   "metadata": {
    "ExecuteTime": {
     "end_time": "2024-11-11T19:57:21.768233Z",
     "start_time": "2024-11-11T19:57:21.683347Z"
    }
   },
   "outputs": [],
   "source": [
    "pd.options.display.float_format = \"{:,.4f}\".format"
   ]
  },
  {
   "cell_type": "markdown",
   "metadata": {},
   "source": [
    "# Results generation"
   ]
  },
  {
   "cell_type": "code",
   "execution_count": 38,
   "metadata": {
    "ExecuteTime": {
     "end_time": "2024-11-11T19:57:24.939485Z",
     "start_time": "2024-11-11T19:57:22.376898Z"
    }
   },
   "outputs": [],
   "source": [
    "pickle_base = '/workspace/coniferas(1)/data_inference/pickles/simulations_no_fossil/dataset_'\n",
    "res_path = \"/workspace/coniferas(1)/data_inference/models/reg/\"\n",
    "n_tips = ['674', '489', '87']\n",
    "\n",
    "data = dict()\n",
    "for i in n_tips:\n",
    "    with open(pickle_base + i + \"_10k.pkl\", 'rb') as f:\n",
    "        data[i] = pickle.load(f)"
   ]
  },
  {
   "cell_type": "code",
   "execution_count": 41,
   "metadata": {
    "ExecuteTime": {
     "end_time": "2024-11-11T19:58:52.551680Z",
     "start_time": "2024-11-11T19:58:26.141056Z"
    },
    "scrolled": true
   },
   "outputs": [
    {
     "name": "stdout",
     "output_type": "stream",
     "text": [
      "--- 674 tips ---\n",
      "--- Inference time:  BD scenario & norm 1.3218464851379395 seconds ---\n",
      "--- Inference time:  BD scenario & no_norm 0.4149961471557617 seconds ---\n",
      "--- Inference time:  HE scenario & norm 0.2879617214202881 seconds ---\n",
      "--- Inference time:  HE scenario & no_norm 0.2892918586730957 seconds ---\n",
      "--- Inference time:  ME scenario & norm 0.36864519119262695 seconds ---\n",
      "--- Inference time:  ME scenario & no_norm 0.3339557647705078 seconds ---\n",
      "--- Inference time:  SAT scenario & norm 0.2581517696380615 seconds ---\n",
      "--- Inference time:  SAT scenario & no_norm 0.274233341217041 seconds ---\n",
      "--- Inference time:  SR scenario & norm 0.4832584857940674 seconds ---\n",
      "--- Inference time:  SR scenario & no_norm 0.4050312042236328 seconds ---\n",
      "--- Inference time:  WW scenario & norm 0.3301835060119629 seconds ---\n",
      "--- Inference time:  WW scenario & no_norm 0.39681053161621094 seconds ---\n",
      "--- 489 tips ---\n",
      "--- Inference time:  BD scenario & norm 0.2342076301574707 seconds ---\n",
      "--- Inference time:  BD scenario & no_norm 0.496370792388916 seconds ---\n",
      "--- Inference time:  HE scenario & norm 0.23539471626281738 seconds ---\n",
      "--- Inference time:  HE scenario & no_norm 0.33777570724487305 seconds ---\n",
      "--- Inference time:  ME scenario & norm 0.27809667587280273 seconds ---\n",
      "--- Inference time:  ME scenario & no_norm 0.4566638469696045 seconds ---\n",
      "--- Inference time:  SAT scenario & norm 0.22095441818237305 seconds ---\n",
      "--- Inference time:  SAT scenario & no_norm 0.2167494297027588 seconds ---\n",
      "--- Inference time:  SR scenario & norm 0.395796537399292 seconds ---\n",
      "--- Inference time:  SR scenario & no_norm 0.2946946620941162 seconds ---\n",
      "--- Inference time:  WW scenario & norm 0.3775627613067627 seconds ---\n",
      "--- Inference time:  WW scenario & no_norm 0.29464006423950195 seconds ---\n",
      "--- 87 tips ---\n",
      "--- Inference time:  BD scenario & norm 0.4234490394592285 seconds ---\n",
      "--- Inference time:  BD scenario & no_norm 0.1973552703857422 seconds ---\n",
      "--- Inference time:  HE scenario & norm 0.3238496780395508 seconds ---\n",
      "--- Inference time:  HE scenario & no_norm 0.19252943992614746 seconds ---\n",
      "--- Inference time:  ME scenario & norm 0.23291015625 seconds ---\n",
      "--- Inference time:  ME scenario & no_norm 0.30535054206848145 seconds ---\n",
      "--- Inference time:  SAT scenario & norm 0.18691396713256836 seconds ---\n",
      "--- Inference time:  SAT scenario & no_norm 0.16961240768432617 seconds ---\n",
      "--- Inference time:  SR scenario & norm 0.5039803981781006 seconds ---\n",
      "--- Inference time:  SR scenario & no_norm 0.248518705368042 seconds ---\n",
      "--- Inference time:  WW scenario & norm 0.2901585102081299 seconds ---\n",
      "--- Inference time:  WW scenario & no_norm 0.3109269142150879 seconds ---\n"
     ]
    }
   ],
   "source": [
    "n_trees_tested = 1000\n",
    "results = dict()\n",
    "inf_times = dict()\n",
    "\n",
    "for i in n_tips:\n",
    "    print('---', i, 'tips ---')\n",
    "    results[i] = dict()\n",
    "    inf_times[i] = dict()\n",
    "    \n",
    "    for label in np.unique(data[i]['div_info_test']):\n",
    "        div_scenario = label.split('/')[1].split('_')[0]\n",
    "        results[i][div_scenario] = dict()\n",
    "        inf_times[i][div_scenario] = dict()\n",
    "        \n",
    "        norm_types = ['norm', 'no_norm']\n",
    "        for norm in norm_types:\n",
    "            results[i][div_scenario][norm] = dict()\n",
    "            inf_times[i][div_scenario][norm] = dict()\n",
    "            \n",
    "            # Load regression model \n",
    "            model_path = res_path + div_scenario + '/' + i + \"_regression_\"\n",
    "            if norm != 'no_norm':\n",
    "                model_path += norm + '_'\n",
    "            \n",
    "            results[i][div_scenario][norm], ex_time = generate_reg_results(model_path, data[i]['X_test'],\n",
    "                                                                           data[i]['y_reg_test'],\n",
    "                                                                           data[i]['y_reg_norm_test'],\n",
    "                                                                           data[i]['div_info_test'],\n",
    "                                                                           data[i]['resc_factor_test'],\n",
    "                                                                           div_scenario, label, norm)\n",
    "            inf_times[i][div_scenario][norm] = ex_time"
   ]
  },
  {
   "cell_type": "markdown",
   "metadata": {},
   "source": [
    "## Inference time"
   ]
  },
  {
   "cell_type": "code",
   "execution_count": 45,
   "metadata": {
    "ExecuteTime": {
     "end_time": "2024-11-11T20:01:33.810142Z",
     "start_time": "2024-11-11T20:01:33.717683Z"
    }
   },
   "outputs": [
    {
     "name": "stdout",
     "output_type": "stream",
     "text": [
      "\n",
      "Inference time statistics for 674:\n",
      "Mean: 0.5083\n",
      "Standard deviation: 0.3708\n",
      "Minimum: 0.2582\n",
      "Maximum: 1.3218\n",
      "\n",
      "Inference time statistics for 489:\n",
      "Mean: 0.2903\n",
      "Standard deviation: 0.0705\n",
      "Minimum: 0.2210\n",
      "Maximum: 0.3958\n",
      "\n",
      "Inference time statistics for 87:\n",
      "Mean: 0.3269\n",
      "Standard deviation: 0.1084\n",
      "Minimum: 0.1869\n",
      "Maximum: 0.5040\n"
     ]
    }
   ],
   "source": [
    "for i in inf_times:\n",
    "    t = []\n",
    "    for scenario in inf_times[i]:\n",
    "        t.append(inf_times[i][scenario]['norm'])\n",
    "   \n",
    "    print(f\"\\nInference time statistics for {i}:\")\n",
    "    print(f\"Mean: {np.mean(t):.4f}\")\n",
    "    print(f\"Standard deviation: {np.std(t):.4f}\")\n",
    "    print(f\"Minimum: {np.min(t):.4f}\")\n",
    "    print(f\"Maximum: {np.max(t):.4f}\")"
   ]
  },
  {
   "cell_type": "markdown",
   "metadata": {},
   "source": [
    "## Training time"
   ]
  },
  {
   "cell_type": "code",
   "execution_count": 46,
   "metadata": {
    "ExecuteTime": {
     "end_time": "2024-11-11T20:01:43.435982Z",
     "start_time": "2024-11-11T20:01:43.332726Z"
    }
   },
   "outputs": [
    {
     "name": "stdout",
     "output_type": "stream",
     "text": [
      "\n",
      "Training times for 674 tips\n",
      "-----\n",
      "Mean: 80.98654202620189\n",
      "Std Dev: 23.909542822776093\n",
      "Max: 121.00370073318481\n",
      "Min: 53.84978413581848\n",
      "\n",
      "Training times for 489 tips\n",
      "-----\n",
      "Mean: 146.08997031052908\n",
      "Std Dev: 40.89618029143705\n",
      "Max: 204.01095628738403\n",
      "Min: 106.88540458679199\n",
      "\n",
      "Training times for 87 tips\n",
      "-----\n",
      "Mean: 178.52716255187988\n",
      "Std Dev: 47.54313057765572\n",
      "Max: 278.6980650424957\n",
      "Min: 133.32786893844604\n"
     ]
    }
   ],
   "source": [
    "for i in n_tips:\n",
    "    train_times = []\n",
    "    \n",
    "    for label in np.unique(data[i]['div_info_test']):\n",
    "        div_scenario = label.split('/')[1].split('_')[0]\n",
    "        \n",
    "        # Load regression model \n",
    "        model_path = res_path + div_scenario + '/' + i + \"_regression_\"\n",
    "\n",
    "        with open(model_path + 'model_data.pkl', 'rb') as f:\n",
    "            n_params, train_time = pickle.load(f)\n",
    "                \n",
    "        train_times.append(train_time)\n",
    "    \n",
    "    print('\\nTraining times for', i, 'tips')\n",
    "    print('-'*5)\n",
    "    print('Mean:', np.mean(train_times))\n",
    "    print('Std Dev:', np.std(train_times))\n",
    "    print('Max:', np.max(train_times))\n",
    "    print('Min:', np.min(train_times))"
   ]
  },
  {
   "cell_type": "markdown",
   "metadata": {},
   "source": [
    "# Regression metrics MAE vs MAE_norm"
   ]
  },
  {
   "cell_type": "code",
   "execution_count": 80,
   "metadata": {
    "ExecuteTime": {
     "end_time": "2024-11-11T20:17:25.749523Z",
     "start_time": "2024-11-11T20:17:25.654860Z"
    }
   },
   "outputs": [
    {
     "data": {
      "text/html": [
       "<div>\n",
       "<style scoped>\n",
       "    .dataframe tbody tr th:only-of-type {\n",
       "        vertical-align: middle;\n",
       "    }\n",
       "\n",
       "    .dataframe tbody tr th {\n",
       "        vertical-align: top;\n",
       "    }\n",
       "\n",
       "    .dataframe thead th {\n",
       "        text-align: right;\n",
       "    }\n",
       "</style>\n",
       "<table border=\"1\" class=\"dataframe\">\n",
       "  <thead>\n",
       "    <tr style=\"text-align: right;\">\n",
       "      <th></th>\n",
       "      <th>norm</th>\n",
       "      <th>no_norm</th>\n",
       "    </tr>\n",
       "  </thead>\n",
       "  <tbody>\n",
       "    <tr>\n",
       "      <th>MAE</th>\n",
       "      <td>7.7588</td>\n",
       "      <td>0.8391</td>\n",
       "    </tr>\n",
       "    <tr>\n",
       "      <th>MAE_norm</th>\n",
       "      <td>4.7085</td>\n",
       "      <td>1.9024</td>\n",
       "    </tr>\n",
       "  </tbody>\n",
       "</table>\n",
       "</div>"
      ],
      "text/plain": [
       "           norm no_norm\n",
       "MAE      7.7588  0.8391\n",
       "MAE_norm 4.7085  1.9024"
      ]
     },
     "execution_count": 80,
     "metadata": {},
     "output_type": "execute_result"
    }
   ],
   "source": [
    "div_scenario = list(results[list(results.keys())[0]].keys())\n",
    "get_regression_norm_results(results, '674', div_scenario, 'norm')"
   ]
  },
  {
   "cell_type": "code",
   "execution_count": 81,
   "metadata": {
    "ExecuteTime": {
     "end_time": "2024-11-11T20:17:26.411999Z",
     "start_time": "2024-11-11T20:17:26.315368Z"
    }
   },
   "outputs": [
    {
     "data": {
      "text/html": [
       "<div>\n",
       "<style scoped>\n",
       "    .dataframe tbody tr th:only-of-type {\n",
       "        vertical-align: middle;\n",
       "    }\n",
       "\n",
       "    .dataframe tbody tr th {\n",
       "        vertical-align: top;\n",
       "    }\n",
       "\n",
       "    .dataframe thead th {\n",
       "        text-align: right;\n",
       "    }\n",
       "</style>\n",
       "<table border=\"1\" class=\"dataframe\">\n",
       "  <thead>\n",
       "    <tr style=\"text-align: right;\">\n",
       "      <th></th>\n",
       "      <th>norm</th>\n",
       "      <th>no_norm</th>\n",
       "    </tr>\n",
       "  </thead>\n",
       "  <tbody>\n",
       "    <tr>\n",
       "      <th>MAE</th>\n",
       "      <td>6.8932</td>\n",
       "      <td>0.7750</td>\n",
       "    </tr>\n",
       "    <tr>\n",
       "      <th>MAE_norm</th>\n",
       "      <td>4.6130</td>\n",
       "      <td>1.7200</td>\n",
       "    </tr>\n",
       "  </tbody>\n",
       "</table>\n",
       "</div>"
      ],
      "text/plain": [
       "           norm no_norm\n",
       "MAE      6.8932  0.7750\n",
       "MAE_norm 4.6130  1.7200"
      ]
     },
     "execution_count": 81,
     "metadata": {},
     "output_type": "execute_result"
    }
   ],
   "source": [
    "div_scenario = list(results[list(results.keys())[0]].keys())\n",
    "get_regression_norm_results(results, '489', div_scenario, 'norm')"
   ]
  },
  {
   "cell_type": "code",
   "execution_count": 82,
   "metadata": {
    "ExecuteTime": {
     "end_time": "2024-11-11T20:17:26.755032Z",
     "start_time": "2024-11-11T20:17:26.659505Z"
    }
   },
   "outputs": [
    {
     "data": {
      "text/html": [
       "<div>\n",
       "<style scoped>\n",
       "    .dataframe tbody tr th:only-of-type {\n",
       "        vertical-align: middle;\n",
       "    }\n",
       "\n",
       "    .dataframe tbody tr th {\n",
       "        vertical-align: top;\n",
       "    }\n",
       "\n",
       "    .dataframe thead th {\n",
       "        text-align: right;\n",
       "    }\n",
       "</style>\n",
       "<table border=\"1\" class=\"dataframe\">\n",
       "  <thead>\n",
       "    <tr style=\"text-align: right;\">\n",
       "      <th></th>\n",
       "      <th>norm</th>\n",
       "      <th>no_norm</th>\n",
       "    </tr>\n",
       "  </thead>\n",
       "  <tbody>\n",
       "    <tr>\n",
       "      <th>MAE</th>\n",
       "      <td>8.1259</td>\n",
       "      <td>0.9861</td>\n",
       "    </tr>\n",
       "    <tr>\n",
       "      <th>MAE_norm</th>\n",
       "      <td>5.5902</td>\n",
       "      <td>2.4266</td>\n",
       "    </tr>\n",
       "  </tbody>\n",
       "</table>\n",
       "</div>"
      ],
      "text/plain": [
       "           norm no_norm\n",
       "MAE      8.1259  0.9861\n",
       "MAE_norm 5.5902  2.4266"
      ]
     },
     "execution_count": 82,
     "metadata": {},
     "output_type": "execute_result"
    }
   ],
   "source": [
    "div_scenario = list(results[list(results.keys())[0]].keys())\n",
    "get_regression_norm_results(results, '87', div_scenario, 'norm')"
   ]
  },
  {
   "cell_type": "markdown",
   "metadata": {},
   "source": [
    "## Comparison between diversification scenarios"
   ]
  },
  {
   "cell_type": "code",
   "execution_count": 86,
   "metadata": {
    "ExecuteTime": {
     "end_time": "2024-11-11T20:18:32.755197Z",
     "start_time": "2024-11-11T20:18:32.655158Z"
    }
   },
   "outputs": [
    {
     "data": {
      "text/html": [
       "<div>\n",
       "<style scoped>\n",
       "    .dataframe tbody tr th:only-of-type {\n",
       "        vertical-align: middle;\n",
       "    }\n",
       "\n",
       "    .dataframe tbody tr th {\n",
       "        vertical-align: top;\n",
       "    }\n",
       "\n",
       "    .dataframe thead th {\n",
       "        text-align: right;\n",
       "    }\n",
       "</style>\n",
       "<table border=\"1\" class=\"dataframe\">\n",
       "  <thead>\n",
       "    <tr style=\"text-align: right;\">\n",
       "      <th></th>\n",
       "      <th>r</th>\n",
       "      <th>a</th>\n",
       "      <th>lambda</th>\n",
       "      <th>mu</th>\n",
       "    </tr>\n",
       "  </thead>\n",
       "  <tbody>\n",
       "    <tr>\n",
       "      <th>MAE</th>\n",
       "      <td>1.2578</td>\n",
       "      <td>0.0905</td>\n",
       "      <td>1.3917</td>\n",
       "      <td>0.1701</td>\n",
       "    </tr>\n",
       "    <tr>\n",
       "      <th>MAE_norm</th>\n",
       "      <td>0.8398</td>\n",
       "      <td>0.0905</td>\n",
       "      <td>0.9825</td>\n",
       "      <td>0.1601</td>\n",
       "    </tr>\n",
       "  </tbody>\n",
       "</table>\n",
       "</div>"
      ],
      "text/plain": [
       "              r      a lambda     mu\n",
       "MAE      1.2578 0.0905 1.3917 0.1701\n",
       "MAE_norm 0.8398 0.0905 0.9825 0.1601"
      ]
     },
     "execution_count": 86,
     "metadata": {},
     "output_type": "execute_result"
    }
   ],
   "source": [
    "get_regression_div_results(results, '674', 'BD', 'norm')"
   ]
  },
  {
   "cell_type": "code",
   "execution_count": 87,
   "metadata": {
    "ExecuteTime": {
     "end_time": "2024-11-11T20:18:45.862118Z",
     "start_time": "2024-11-11T20:18:45.766792Z"
    }
   },
   "outputs": [
    {
     "data": {
      "text/html": [
       "<div>\n",
       "<style scoped>\n",
       "    .dataframe tbody tr th:only-of-type {\n",
       "        vertical-align: middle;\n",
       "    }\n",
       "\n",
       "    .dataframe tbody tr th {\n",
       "        vertical-align: top;\n",
       "    }\n",
       "\n",
       "    .dataframe thead th {\n",
       "        text-align: right;\n",
       "    }\n",
       "</style>\n",
       "<table border=\"1\" class=\"dataframe\">\n",
       "  <thead>\n",
       "    <tr style=\"text-align: right;\">\n",
       "      <th></th>\n",
       "      <th>r</th>\n",
       "      <th>a</th>\n",
       "      <th>lambda</th>\n",
       "      <th>mu</th>\n",
       "    </tr>\n",
       "  </thead>\n",
       "  <tbody>\n",
       "    <tr>\n",
       "      <th>MAE</th>\n",
       "      <td>0.4919</td>\n",
       "      <td>0.1432</td>\n",
       "      <td>0.5824</td>\n",
       "      <td>0.1062</td>\n",
       "    </tr>\n",
       "    <tr>\n",
       "      <th>MAE_norm</th>\n",
       "      <td>0.3159</td>\n",
       "      <td>0.1432</td>\n",
       "      <td>0.8849</td>\n",
       "      <td>0.5904</td>\n",
       "    </tr>\n",
       "  </tbody>\n",
       "</table>\n",
       "</div>"
      ],
      "text/plain": [
       "              r      a lambda     mu\n",
       "MAE      0.4919 0.1432 0.5824 0.1062\n",
       "MAE_norm 0.3159 0.1432 0.8849 0.5904"
      ]
     },
     "execution_count": 87,
     "metadata": {},
     "output_type": "execute_result"
    }
   ],
   "source": [
    "get_regression_div_results(results, '674', 'HE', 'norm')"
   ]
  },
  {
   "cell_type": "code",
   "execution_count": 88,
   "metadata": {
    "ExecuteTime": {
     "end_time": "2024-11-11T20:18:49.438044Z",
     "start_time": "2024-11-11T20:18:49.341081Z"
    }
   },
   "outputs": [
    {
     "data": {
      "text/html": [
       "<div>\n",
       "<style scoped>\n",
       "    .dataframe tbody tr th:only-of-type {\n",
       "        vertical-align: middle;\n",
       "    }\n",
       "\n",
       "    .dataframe tbody tr th {\n",
       "        vertical-align: top;\n",
       "    }\n",
       "\n",
       "    .dataframe thead th {\n",
       "        text-align: right;\n",
       "    }\n",
       "</style>\n",
       "<table border=\"1\" class=\"dataframe\">\n",
       "  <thead>\n",
       "    <tr style=\"text-align: right;\">\n",
       "      <th></th>\n",
       "      <th>r</th>\n",
       "      <th>a</th>\n",
       "      <th>time</th>\n",
       "      <th>frac</th>\n",
       "      <th>lambda</th>\n",
       "      <th>mu</th>\n",
       "    </tr>\n",
       "  </thead>\n",
       "  <tbody>\n",
       "    <tr>\n",
       "      <th>MAE</th>\n",
       "      <td>1.0698</td>\n",
       "      <td>0.0693</td>\n",
       "      <td>37.8917</td>\n",
       "      <td>0.0489</td>\n",
       "      <td>2.3500</td>\n",
       "      <td>1.2880</td>\n",
       "    </tr>\n",
       "    <tr>\n",
       "      <th>MAE_norm</th>\n",
       "      <td>0.6829</td>\n",
       "      <td>0.0693</td>\n",
       "      <td>26.3903</td>\n",
       "      <td>0.0489</td>\n",
       "      <td>1.5639</td>\n",
       "      <td>0.8890</td>\n",
       "    </tr>\n",
       "  </tbody>\n",
       "</table>\n",
       "</div>"
      ],
      "text/plain": [
       "              r      a    time   frac lambda     mu\n",
       "MAE      1.0698 0.0693 37.8917 0.0489 2.3500 1.2880\n",
       "MAE_norm 0.6829 0.0693 26.3903 0.0489 1.5639 0.8890"
      ]
     },
     "execution_count": 88,
     "metadata": {},
     "output_type": "execute_result"
    }
   ],
   "source": [
    "get_regression_div_results(results, '674', 'ME', 'norm')"
   ]
  },
  {
   "cell_type": "code",
   "execution_count": 89,
   "metadata": {
    "ExecuteTime": {
     "end_time": "2024-11-11T20:18:53.462556Z",
     "start_time": "2024-11-11T20:18:53.362798Z"
    }
   },
   "outputs": [
    {
     "data": {
      "text/html": [
       "<div>\n",
       "<style scoped>\n",
       "    .dataframe tbody tr th:only-of-type {\n",
       "        vertical-align: middle;\n",
       "    }\n",
       "\n",
       "    .dataframe tbody tr th {\n",
       "        vertical-align: top;\n",
       "    }\n",
       "\n",
       "    .dataframe thead th {\n",
       "        text-align: right;\n",
       "    }\n",
       "</style>\n",
       "<table border=\"1\" class=\"dataframe\">\n",
       "  <thead>\n",
       "    <tr style=\"text-align: right;\">\n",
       "      <th></th>\n",
       "      <th>r0</th>\n",
       "      <th>r1</th>\n",
       "      <th>a0</th>\n",
       "      <th>a1</th>\n",
       "      <th>time</th>\n",
       "      <th>lambda0</th>\n",
       "      <th>lambda1</th>\n",
       "      <th>mu0</th>\n",
       "      <th>mu1</th>\n",
       "    </tr>\n",
       "  </thead>\n",
       "  <tbody>\n",
       "    <tr>\n",
       "      <th>MAE</th>\n",
       "      <td>1.6267</td>\n",
       "      <td>0.1627</td>\n",
       "      <td>0.1048</td>\n",
       "      <td>0.0949</td>\n",
       "      <td>22.6898</td>\n",
       "      <td>2.2163</td>\n",
       "      <td>0.6170</td>\n",
       "      <td>0.6061</td>\n",
       "      <td>0.4584</td>\n",
       "    </tr>\n",
       "    <tr>\n",
       "      <th>MAE_norm</th>\n",
       "      <td>1.2011</td>\n",
       "      <td>0.1305</td>\n",
       "      <td>0.1048</td>\n",
       "      <td>0.0949</td>\n",
       "      <td>15.5514</td>\n",
       "      <td>1.7638</td>\n",
       "      <td>0.6160</td>\n",
       "      <td>0.5816</td>\n",
       "      <td>0.4886</td>\n",
       "    </tr>\n",
       "  </tbody>\n",
       "</table>\n",
       "</div>"
      ],
      "text/plain": [
       "             r0     r1     a0     a1    time lambda0 lambda1    mu0    mu1\n",
       "MAE      1.6267 0.1627 0.1048 0.0949 22.6898  2.2163  0.6170 0.6061 0.4584\n",
       "MAE_norm 1.2011 0.1305 0.1048 0.0949 15.5514  1.7638  0.6160 0.5816 0.4886"
      ]
     },
     "execution_count": 89,
     "metadata": {},
     "output_type": "execute_result"
    }
   ],
   "source": [
    "get_regression_div_results(results, '674', 'SR', 'norm')"
   ]
  },
  {
   "cell_type": "code",
   "execution_count": 90,
   "metadata": {
    "ExecuteTime": {
     "end_time": "2024-11-11T20:18:58.436542Z",
     "start_time": "2024-11-11T20:18:58.337232Z"
    }
   },
   "outputs": [
    {
     "data": {
      "text/html": [
       "<div>\n",
       "<style scoped>\n",
       "    .dataframe tbody tr th:only-of-type {\n",
       "        vertical-align: middle;\n",
       "    }\n",
       "\n",
       "    .dataframe tbody tr th {\n",
       "        vertical-align: top;\n",
       "    }\n",
       "\n",
       "    .dataframe thead th {\n",
       "        text-align: right;\n",
       "    }\n",
       "</style>\n",
       "<table border=\"1\" class=\"dataframe\">\n",
       "  <thead>\n",
       "    <tr style=\"text-align: right;\">\n",
       "      <th></th>\n",
       "      <th>lambda 0</th>\n",
       "    </tr>\n",
       "  </thead>\n",
       "  <tbody>\n",
       "    <tr>\n",
       "      <th>MAE</th>\n",
       "      <td>10.3071</td>\n",
       "    </tr>\n",
       "    <tr>\n",
       "      <th>MAE_norm</th>\n",
       "      <td>6.4437</td>\n",
       "    </tr>\n",
       "  </tbody>\n",
       "</table>\n",
       "</div>"
      ],
      "text/plain": [
       "         lambda 0\n",
       "MAE       10.3071\n",
       "MAE_norm   6.4437"
      ]
     },
     "execution_count": 90,
     "metadata": {},
     "output_type": "execute_result"
    }
   ],
   "source": [
    "get_regression_div_results(results, '674', 'SAT', 'norm')"
   ]
  },
  {
   "cell_type": "code",
   "execution_count": 91,
   "metadata": {
    "ExecuteTime": {
     "end_time": "2024-11-11T20:19:06.836011Z",
     "start_time": "2024-11-11T20:19:06.736808Z"
    }
   },
   "outputs": [
    {
     "data": {
      "text/html": [
       "<div>\n",
       "<style scoped>\n",
       "    .dataframe tbody tr th:only-of-type {\n",
       "        vertical-align: middle;\n",
       "    }\n",
       "\n",
       "    .dataframe tbody tr th {\n",
       "        vertical-align: top;\n",
       "    }\n",
       "\n",
       "    .dataframe thead th {\n",
       "        text-align: right;\n",
       "    }\n",
       "</style>\n",
       "<table border=\"1\" class=\"dataframe\">\n",
       "  <thead>\n",
       "    <tr style=\"text-align: right;\">\n",
       "      <th></th>\n",
       "      <th>r0</th>\n",
       "      <th>r1</th>\n",
       "      <th>a0</th>\n",
       "      <th>a1</th>\n",
       "      <th>time</th>\n",
       "      <th>lambda0</th>\n",
       "      <th>lambda1</th>\n",
       "      <th>mu0</th>\n",
       "      <th>mu1</th>\n",
       "    </tr>\n",
       "  </thead>\n",
       "  <tbody>\n",
       "    <tr>\n",
       "      <th>MAE</th>\n",
       "      <td>1.4068</td>\n",
       "      <td>11.6825</td>\n",
       "      <td>0.1344</td>\n",
       "      <td>0.0854</td>\n",
       "      <td>175.9286</td>\n",
       "      <td>2.2068</td>\n",
       "      <td>20.2810</td>\n",
       "      <td>3.6084</td>\n",
       "      <td>8.7008</td>\n",
       "    </tr>\n",
       "    <tr>\n",
       "      <th>MAE_norm</th>\n",
       "      <td>0.7867</td>\n",
       "      <td>7.3123</td>\n",
       "      <td>0.1344</td>\n",
       "      <td>0.0854</td>\n",
       "      <td>91.7129</td>\n",
       "      <td>1.2261</td>\n",
       "      <td>13.0962</td>\n",
       "      <td>2.0071</td>\n",
       "      <td>5.8897</td>\n",
       "    </tr>\n",
       "  </tbody>\n",
       "</table>\n",
       "</div>"
      ],
      "text/plain": [
       "             r0      r1     a0     a1     time lambda0 lambda1    mu0    mu1\n",
       "MAE      1.4068 11.6825 0.1344 0.0854 175.9286  2.2068 20.2810 3.6084 8.7008\n",
       "MAE_norm 0.7867  7.3123 0.1344 0.0854  91.7129  1.2261 13.0962 2.0071 5.8897"
      ]
     },
     "execution_count": 91,
     "metadata": {},
     "output_type": "execute_result"
    }
   ],
   "source": [
    "get_regression_div_results(results, '674', 'WW', 'norm')"
   ]
  },
  {
   "cell_type": "code",
   "execution_count": null,
   "metadata": {},
   "outputs": [],
   "source": []
  }
 ],
 "metadata": {
  "kernelspec": {
   "display_name": "Python 3",
   "language": "python",
   "name": "python3"
  },
  "language_info": {
   "codemirror_mode": {
    "name": "ipython",
    "version": 3
   },
   "file_extension": ".py",
   "mimetype": "text/x-python",
   "name": "python",
   "nbconvert_exporter": "python",
   "pygments_lexer": "ipython3",
   "version": "3.8.5"
  },
  "toc": {
   "base_numbering": 1,
   "nav_menu": {},
   "number_sections": false,
   "sideBar": true,
   "skip_h1_title": false,
   "title_cell": "Table of Contents",
   "title_sidebar": "Contents",
   "toc_cell": false,
   "toc_position": {
    "height": "calc(100% - 180px)",
    "left": "10px",
    "top": "150px",
    "width": "165px"
   },
   "toc_section_display": true,
   "toc_window_display": false
  },
  "varInspector": {
   "cols": {
    "lenName": 16,
    "lenType": 16,
    "lenVar": 40
   },
   "kernels_config": {
    "python": {
     "delete_cmd_postfix": "",
     "delete_cmd_prefix": "del ",
     "library": "var_list.py",
     "varRefreshCmd": "print(var_dic_list())"
    },
    "r": {
     "delete_cmd_postfix": ") ",
     "delete_cmd_prefix": "rm(",
     "library": "var_list.r",
     "varRefreshCmd": "cat(var_dic_list()) "
    }
   },
   "types_to_exclude": [
    "module",
    "function",
    "builtin_function_or_method",
    "instance",
    "_Feature"
   ],
   "window_display": false
  }
 },
 "nbformat": 4,
 "nbformat_minor": 4
}
