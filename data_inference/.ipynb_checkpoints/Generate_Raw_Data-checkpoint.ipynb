{
 "cells": [
  {
   "cell_type": "markdown",
   "metadata": {},
   "source": [
    "# Imports"
   ]
  },
  {
   "cell_type": "code",
   "execution_count": 1,
   "metadata": {
    "ExecuteTime": {
     "end_time": "2024-11-11T11:23:20.792338Z",
     "start_time": "2024-11-11T11:23:20.773730Z"
    }
   },
   "outputs": [],
   "source": [
    "%reload_ext autoreload\n",
    "%autoreload 2"
   ]
  },
  {
   "cell_type": "code",
   "execution_count": 2,
   "metadata": {
    "ExecuteTime": {
     "end_time": "2024-11-11T11:23:21.446600Z",
     "start_time": "2024-11-11T11:23:20.794590Z"
    }
   },
   "outputs": [],
   "source": [
    "import pickle, os\n",
    "\n",
    "from dataset_code.load_dataset_vec import *"
   ]
  },
  {
   "cell_type": "code",
   "execution_count": 3,
   "metadata": {
    "ExecuteTime": {
     "end_time": "2024-11-11T11:23:21.477971Z",
     "start_time": "2024-11-11T11:23:21.449264Z"
    }
   },
   "outputs": [],
   "source": [
    "def show_dataset_features(dataset):\n",
    "    print(\"Vectorized trees shape: \", np.shape(dataset.X_vec))\n",
    "\n",
    "    print(\"-\"*20)\n",
    "    print(\"Labels: \", dataset.label_names)\n",
    "    print(\"Labels of the trees shape: \", np.shape(dataset.label))\n",
    "\n",
    "    print(\"-\"*20)\n",
    "    print(\"-\"*20)\n",
    "    print(\"time shape: \", np.shape(dataset.time))\n",
    "    print(\"frac0 shape: \", np.shape(dataset.frac0))\n",
    "    print(\"frac1 shape: \", np.shape(dataset.frac1))\n",
    "    print(\"r0 shape: \", np.shape(dataset.r0))\n",
    "    print(\"r1 shape: \", np.shape(dataset.r1))\n",
    "    print(\"a0 shape: \", np.shape(dataset.a0))\n",
    "    print(\"a1 shape: \", np.shape(dataset.a1))\n",
    "    \n",
    "    print(\"-\"*20)\n",
    "    print(\"resc_factor shape: \", np.shape(dataset.resc_factor))\n",
    "    print(\"mu0 shape: \", np.shape(dataset.mu0))\n",
    "    print(\"mu1 shape: \", np.shape(dataset.mu1))\n",
    "    print(\"lambda0 shape: \", np.shape(dataset.lambda0))\n",
    "    print(\"lambda1 shape: \", np.shape(dataset.lambda1))\n",
    "\n",
    "    print(\"-\"*20)\n",
    "    print(\"-\"*20)\n",
    "    print(\"norm_time shape: \", np.shape(dataset.norm_time))\n",
    "    print(\"norm_frac0 shape: \", np.shape(dataset.norm_frac0))\n",
    "    print(\"norm_frac1 shape: \", np.shape(dataset.norm_frac1))\n",
    "    print(\"norm_r0 shape: \", np.shape(dataset.norm_r0))\n",
    "    print(\"norm_r1 shape: \", np.shape(dataset.norm_r1))\n",
    "    print(\"norm_a0 shape: \", np.shape(dataset.norm_a0))\n",
    "    print(\"norm_a1 shape: \", np.shape(dataset.norm_a1))\n",
    "    print(\"norm_mu0 shape: \", np.shape(dataset.norm_mu0))\n",
    "    print(\"norm_mu10 shape: \", np.shape(dataset.norm_mu1))\n",
    "    print(\"norm_lambda0 shape: \", np.shape(dataset.norm_lambda0))\n",
    "    print(\"norm_lambda1 shape: \", np.shape(dataset.norm_lambda1))"
   ]
  },
  {
   "cell_type": "markdown",
   "metadata": {},
   "source": [
    "# Load and generate pickle file containing data information"
   ]
  },
  {
   "cell_type": "code",
   "execution_count": 4,
   "metadata": {
    "ExecuteTime": {
     "end_time": "2024-11-11T11:23:21.502580Z",
     "start_time": "2024-11-11T11:23:21.480377Z"
    },
    "scrolled": true
   },
   "outputs": [],
   "source": [
    "files = [\n",
    "        [\"/workspace/coniferas/simulations/simulations_no_fossil/treepar_dataset/87/BD_sim_87_TreePar_rescale.csv\",\n",
    "        \"/workspace/coniferas/simulations/simulations_no_fossil/treepar_dataset/87/HE_sim_87_TreePar_rescale.csv\",\n",
    "        \"/workspace/coniferas/simulations/simulations_no_fossil/treepar_dataset/87/ME_sim_87_TreePar_rescale.csv\",\n",
    "        \"/workspace/coniferas/simulations/simulations_no_fossil/treepar_dataset/87/SAT_sim_87_TreePar_rescale.csv\",\n",
    "        \"/workspace/coniferas/simulations/simulations_no_fossil/treepar_dataset/87/SR_sim_87_TreePar_rescale.csv\",\n",
    "        \"/workspace/coniferas/simulations/simulations_no_fossil/treepar_dataset/87/WW_sim_87_TreePar_rescale.csv\",],\n",
    "    \n",
    "        [\"/workspace/coniferas/simulations/simulations_no_fossil/treepar_dataset/489/BD_sim_489_TreePar_rescale.csv\",\n",
    "        \"/workspace/coniferas/simulations/simulations_no_fossil/treepar_dataset/489/HE_sim_489_TreePar_rescale.csv\",\n",
    "        \"/workspace/coniferas/simulations/simulations_no_fossil/treepar_dataset/489/ME_sim_489_TreePar_rescale.csv\",\n",
    "        \"/workspace/coniferas/simulations/simulations_no_fossil/treepar_dataset/489/SAT_sim_489_TreePar_rescale.csv\",\n",
    "        \"/workspace/coniferas/simulations/simulations_no_fossil/treepar_dataset/489/SR_sim_489_TreePar_rescale.csv\",\n",
    "        \"/workspace/coniferas/simulations/simulations_no_fossil/treepar_dataset/489/WW_sim_489_TreePar_rescale.csv\",],\n",
    "    \n",
    "        [\"/workspace/coniferas/simulations/simulations_no_fossil/treepar_dataset/674/BD_sim_674_TreePar_rescale.csv\",\n",
    "        \"/workspace/coniferas/simulations/simulations_no_fossil/treepar_dataset/674/HE_sim_674_TreePar_rescale.csv\",\n",
    "        \"/workspace/coniferas/simulations/simulations_no_fossil/treepar_dataset/674/ME_sim_674_TreePar_rescale.csv\",\n",
    "        \"/workspace/coniferas/simulations/simulations_no_fossil/treepar_dataset/674/SAT_sim_674_TreePar_rescale.csv\",\n",
    "        \"/workspace/coniferas/simulations/simulations_no_fossil/treepar_dataset/674/SR_sim_674_TreePar_rescale.csv\",\n",
    "        \"/workspace/coniferas/simulations/simulations_no_fossil/treepar_dataset/674/WW_sim_674_TreePar_rescale.csv\",],\n",
    "    \n",
    "        [\"/workspace/coniferas/simulations/simulations_no_fossil/87_10k/BD_sim_10k_rescale.csv\",\n",
    "        \"/workspace/coniferas/simulations/simulations_no_fossil/87_10k/HE_sim_10k_rescale.csv\",\n",
    "        \"/workspace/coniferas/simulations/simulations_no_fossil/87_10k/ME_rho_sim_10k_rescale.csv\",\n",
    "        \"/workspace/coniferas/simulations/simulations_no_fossil/87_10k/SAT_sim_10k_rescale.csv\",\n",
    "        \"/workspace/coniferas/simulations/simulations_no_fossil/87_10k/SR_sim_10k_rescale.csv\",\n",
    "        \"/workspace/coniferas/simulations/simulations_no_fossil/87_10k/WW_sim_10k_rescale.csv\",],\n",
    "         \n",
    "       [\"/workspace/coniferas/simulations/simulations_no_fossil/489_10k/BD_sim_10k_rescale.csv\",\n",
    "       \"/workspace/coniferas/simulations/simulations_no_fossil/489_10k/HE_sim_10k_rescale.csv\",\n",
    "       \"/workspace/coniferas/simulations/simulations_no_fossil/489_10k/ME_rho_sim_10k_rescale.csv\",\n",
    "       \"/workspace/coniferas/simulations/simulations_no_fossil/489_10k/SAT_sim_10k_rescale.csv\",\n",
    "       \"/workspace/coniferas/simulations/simulations_no_fossil/489_10k/SR_sim_10k_rescale.csv\",\n",
    "       \"/workspace/coniferas/simulations/simulations_no_fossil/489_10k/WW_sim_10k_rescale.csv\",],\n",
    "    \n",
    "       [\"/workspace/coniferas/simulations/simulations_no_fossil/674_10k/BD_sim_10k_rescale.csv\",\n",
    "       \"/workspace/coniferas/simulations/simulations_no_fossil/674_10k/HE_sim_10k_rescale.csv\",\n",
    "       \"/workspace/coniferas/simulations/simulations_no_fossil/674_10k/ME_rho_sim_10k_rescale.csv\",\n",
    "       \"/workspace/coniferas/simulations/simulations_no_fossil/674_10k/SAT_sim_10k_rescale.csv\",\n",
    "       \"/workspace/coniferas/simulations/simulations_no_fossil/674_10k/SR_sim_10k_rescale.csv\",\n",
    "       \"/workspace/coniferas/simulations/simulations_no_fossil/674_10k/WW_sim_10k_rescale.csv\",],\n",
    "         ]"
   ]
  },
  {
   "cell_type": "code",
   "execution_count": 5,
   "metadata": {
    "ExecuteTime": {
     "end_time": "2024-11-11T11:45:30.261667Z",
     "start_time": "2024-11-11T11:23:21.504624Z"
    },
    "scrolled": true
   },
   "outputs": [
    {
     "name": "stdout",
     "output_type": "stream",
     "text": [
      "Loading trees from:  /workspace/coniferas/simulations/simulations_no_fossil/treepar_dataset/87/BD_sim_87_TreePar_rescale.csv\n",
      "Encoding Vec trees\n"
     ]
    },
    {
     "name": "stderr",
     "output_type": "stream",
     "text": [
      "100%|██████████| 100/100 [00:00<00:00, 589.01it/s]\n"
     ]
    },
    {
     "name": "stdout",
     "output_type": "stream",
     "text": [
      "100  trees loaded\n",
      "Loading trees from:  /workspace/coniferas/simulations/simulations_no_fossil/treepar_dataset/87/HE_sim_87_TreePar_rescale.csv\n",
      "Encoding Vec trees\n"
     ]
    },
    {
     "name": "stderr",
     "output_type": "stream",
     "text": [
      "100%|██████████| 100/100 [00:00<00:00, 642.99it/s]\n"
     ]
    },
    {
     "name": "stdout",
     "output_type": "stream",
     "text": [
      "100  trees loaded\n",
      "Loading trees from:  /workspace/coniferas/simulations/simulations_no_fossil/treepar_dataset/87/ME_sim_87_TreePar_rescale.csv\n",
      "Encoding Vec trees\n"
     ]
    },
    {
     "name": "stderr",
     "output_type": "stream",
     "text": [
      "100%|██████████| 100/100 [00:00<00:00, 787.88it/s]"
     ]
    },
    {
     "name": "stdout",
     "output_type": "stream",
     "text": [
      "100  trees loaded\n",
      "Loading trees from:  /workspace/coniferas/simulations/simulations_no_fossil/treepar_dataset/87/SAT_sim_87_TreePar_rescale.csv\n",
      "Encoding Vec trees\n"
     ]
    },
    {
     "name": "stderr",
     "output_type": "stream",
     "text": [
      "\n",
      "100%|██████████| 100/100 [00:00<00:00, 768.78it/s]"
     ]
    },
    {
     "name": "stdout",
     "output_type": "stream",
     "text": [
      "100  trees loaded\n",
      "Loading trees from:  /workspace/coniferas/simulations/simulations_no_fossil/treepar_dataset/87/SR_sim_87_TreePar_rescale.csv\n",
      "Encoding Vec trees\n"
     ]
    },
    {
     "name": "stderr",
     "output_type": "stream",
     "text": [
      "\n",
      "100%|██████████| 100/100 [00:00<00:00, 791.95it/s]"
     ]
    },
    {
     "name": "stdout",
     "output_type": "stream",
     "text": [
      "100  trees loaded\n",
      "Loading trees from:  /workspace/coniferas/simulations/simulations_no_fossil/treepar_dataset/87/WW_sim_87_TreePar_rescale.csv\n",
      "Encoding Vec trees\n"
     ]
    },
    {
     "name": "stderr",
     "output_type": "stream",
     "text": [
      "\n",
      "100%|██████████| 100/100 [00:00<00:00, 863.30it/s]\n"
     ]
    },
    {
     "name": "stdout",
     "output_type": "stream",
     "text": [
      "100  trees loaded\n",
      "Vectorized trees shape:  (600, 87)\n",
      "--------------------\n",
      "Labels:  ['/workspace/coniferas/simulations/simulations_no_fossil/treepar_dataset/87/BD_sim_87_TreePar_rescale.csv', '/workspace/coniferas/simulations/simulations_no_fossil/treepar_dataset/87/HE_sim_87_TreePar_rescale.csv', '/workspace/coniferas/simulations/simulations_no_fossil/treepar_dataset/87/ME_sim_87_TreePar_rescale.csv', '/workspace/coniferas/simulations/simulations_no_fossil/treepar_dataset/87/SAT_sim_87_TreePar_rescale.csv', '/workspace/coniferas/simulations/simulations_no_fossil/treepar_dataset/87/SR_sim_87_TreePar_rescale.csv', '/workspace/coniferas/simulations/simulations_no_fossil/treepar_dataset/87/WW_sim_87_TreePar_rescale.csv']\n",
      "Labels of the trees shape:  (600,)\n",
      "--------------------\n",
      "--------------------\n",
      "time shape:  (600,)\n",
      "frac0 shape:  (600,)\n",
      "frac1 shape:  (600,)\n",
      "r0 shape:  (600,)\n",
      "r1 shape:  (600,)\n",
      "a0 shape:  (600,)\n",
      "a1 shape:  (600,)\n",
      "--------------------\n",
      "resc_factor shape:  (600,)\n",
      "mu0 shape:  (600,)\n",
      "mu1 shape:  (600,)\n",
      "lambda0 shape:  (600,)\n",
      "lambda1 shape:  (600,)\n",
      "--------------------\n",
      "--------------------\n",
      "norm_time shape:  (600,)\n",
      "norm_frac0 shape:  (600,)\n",
      "norm_frac1 shape:  (600,)\n",
      "norm_r0 shape:  (600,)\n",
      "norm_r1 shape:  (600,)\n",
      "norm_a0 shape:  (600,)\n",
      "norm_a1 shape:  (600,)\n",
      "norm_mu0 shape:  (600,)\n",
      "norm_mu10 shape:  (600,)\n",
      "norm_lambda0 shape:  (600,)\n",
      "norm_lambda1 shape:  (600,)\n",
      "Loading trees from:  /workspace/coniferas/simulations/simulations_no_fossil/treepar_dataset/489/BD_sim_489_TreePar_rescale.csv\n",
      "Encoding Vec trees\n"
     ]
    },
    {
     "name": "stderr",
     "output_type": "stream",
     "text": [
      "100%|██████████| 100/100 [00:00<00:00, 123.01it/s]\n"
     ]
    },
    {
     "name": "stdout",
     "output_type": "stream",
     "text": [
      "100  trees loaded\n",
      "Loading trees from:  /workspace/coniferas/simulations/simulations_no_fossil/treepar_dataset/489/HE_sim_489_TreePar_rescale.csv\n",
      "Encoding Vec trees\n"
     ]
    },
    {
     "name": "stderr",
     "output_type": "stream",
     "text": [
      "100%|██████████| 100/100 [00:00<00:00, 127.48it/s]\n"
     ]
    },
    {
     "name": "stdout",
     "output_type": "stream",
     "text": [
      "100  trees loaded\n",
      "Loading trees from:  /workspace/coniferas/simulations/simulations_no_fossil/treepar_dataset/489/ME_sim_489_TreePar_rescale.csv\n",
      "Encoding Vec trees\n"
     ]
    },
    {
     "name": "stderr",
     "output_type": "stream",
     "text": [
      "100%|██████████| 100/100 [00:00<00:00, 129.95it/s]\n"
     ]
    },
    {
     "name": "stdout",
     "output_type": "stream",
     "text": [
      "100  trees loaded\n",
      "Loading trees from:  /workspace/coniferas/simulations/simulations_no_fossil/treepar_dataset/489/SAT_sim_489_TreePar_rescale.csv\n",
      "Encoding Vec trees\n"
     ]
    },
    {
     "name": "stderr",
     "output_type": "stream",
     "text": [
      "100%|██████████| 100/100 [00:00<00:00, 130.38it/s]\n"
     ]
    },
    {
     "name": "stdout",
     "output_type": "stream",
     "text": [
      "100  trees loaded\n",
      "Loading trees from:  /workspace/coniferas/simulations/simulations_no_fossil/treepar_dataset/489/SR_sim_489_TreePar_rescale.csv\n",
      "Encoding Vec trees\n"
     ]
    },
    {
     "name": "stderr",
     "output_type": "stream",
     "text": [
      "100%|██████████| 100/100 [00:00<00:00, 129.86it/s]"
     ]
    },
    {
     "name": "stdout",
     "output_type": "stream",
     "text": [
      "100  trees loaded\n",
      "Loading trees from:  /workspace/coniferas/simulations/simulations_no_fossil/treepar_dataset/489/WW_sim_489_TreePar_rescale.csv\n",
      "Encoding Vec trees\n"
     ]
    },
    {
     "name": "stderr",
     "output_type": "stream",
     "text": [
      "\n",
      "100%|██████████| 100/100 [00:00<00:00, 129.16it/s]\n"
     ]
    },
    {
     "name": "stdout",
     "output_type": "stream",
     "text": [
      "100  trees loaded\n",
      "Vectorized trees shape:  (600, 489)\n",
      "--------------------\n",
      "Labels:  ['/workspace/coniferas/simulations/simulations_no_fossil/treepar_dataset/489/BD_sim_489_TreePar_rescale.csv', '/workspace/coniferas/simulations/simulations_no_fossil/treepar_dataset/489/HE_sim_489_TreePar_rescale.csv', '/workspace/coniferas/simulations/simulations_no_fossil/treepar_dataset/489/ME_sim_489_TreePar_rescale.csv', '/workspace/coniferas/simulations/simulations_no_fossil/treepar_dataset/489/SAT_sim_489_TreePar_rescale.csv', '/workspace/coniferas/simulations/simulations_no_fossil/treepar_dataset/489/SR_sim_489_TreePar_rescale.csv', '/workspace/coniferas/simulations/simulations_no_fossil/treepar_dataset/489/WW_sim_489_TreePar_rescale.csv']\n",
      "Labels of the trees shape:  (600,)\n",
      "--------------------\n",
      "--------------------\n",
      "time shape:  (600,)\n",
      "frac0 shape:  (600,)\n",
      "frac1 shape:  (600,)\n",
      "r0 shape:  (600,)\n",
      "r1 shape:  (600,)\n",
      "a0 shape:  (600,)\n",
      "a1 shape:  (600,)\n",
      "--------------------\n",
      "resc_factor shape:  (600,)\n",
      "mu0 shape:  (600,)\n",
      "mu1 shape:  (600,)\n",
      "lambda0 shape:  (600,)\n",
      "lambda1 shape:  (600,)\n",
      "--------------------\n",
      "--------------------\n",
      "norm_time shape:  (600,)\n",
      "norm_frac0 shape:  (600,)\n",
      "norm_frac1 shape:  (600,)\n",
      "norm_r0 shape:  (600,)\n",
      "norm_r1 shape:  (600,)\n",
      "norm_a0 shape:  (600,)\n",
      "norm_a1 shape:  (600,)\n",
      "norm_mu0 shape:  (600,)\n",
      "norm_mu10 shape:  (600,)\n",
      "norm_lambda0 shape:  (600,)\n",
      "norm_lambda1 shape:  (600,)\n",
      "Loading trees from:  /workspace/coniferas/simulations/simulations_no_fossil/treepar_dataset/674/BD_sim_674_TreePar_rescale.csv\n",
      "Encoding Vec trees\n"
     ]
    },
    {
     "name": "stderr",
     "output_type": "stream",
     "text": [
      "100%|██████████| 100/100 [00:01<00:00, 90.27it/s]"
     ]
    },
    {
     "name": "stdout",
     "output_type": "stream",
     "text": [
      "100  trees loaded\n",
      "Loading trees from:  /workspace/coniferas/simulations/simulations_no_fossil/treepar_dataset/674/HE_sim_674_TreePar_rescale.csv\n",
      "Encoding Vec trees\n"
     ]
    },
    {
     "name": "stderr",
     "output_type": "stream",
     "text": [
      "\n",
      "100%|██████████| 100/100 [00:01<00:00, 92.88it/s]\n"
     ]
    },
    {
     "name": "stdout",
     "output_type": "stream",
     "text": [
      "100  trees loaded\n",
      "Loading trees from:  /workspace/coniferas/simulations/simulations_no_fossil/treepar_dataset/674/ME_sim_674_TreePar_rescale.csv\n",
      "Encoding Vec trees\n"
     ]
    },
    {
     "name": "stderr",
     "output_type": "stream",
     "text": [
      "100%|██████████| 100/100 [00:01<00:00, 88.20it/s]"
     ]
    },
    {
     "name": "stdout",
     "output_type": "stream",
     "text": [
      "100  trees loaded\n",
      "Loading trees from:  /workspace/coniferas/simulations/simulations_no_fossil/treepar_dataset/674/SAT_sim_674_TreePar_rescale.csv\n",
      "Encoding Vec trees\n"
     ]
    },
    {
     "name": "stderr",
     "output_type": "stream",
     "text": [
      "\n",
      "100%|██████████| 100/100 [00:01<00:00, 93.53it/s]\n"
     ]
    },
    {
     "name": "stdout",
     "output_type": "stream",
     "text": [
      "100  trees loaded\n",
      "Loading trees from:  /workspace/coniferas/simulations/simulations_no_fossil/treepar_dataset/674/SR_sim_674_TreePar_rescale.csv\n",
      "Encoding Vec trees\n"
     ]
    },
    {
     "name": "stderr",
     "output_type": "stream",
     "text": [
      "100%|██████████| 100/100 [00:01<00:00, 92.74it/s]\n"
     ]
    },
    {
     "name": "stdout",
     "output_type": "stream",
     "text": [
      "100  trees loaded\n",
      "Loading trees from:  /workspace/coniferas/simulations/simulations_no_fossil/treepar_dataset/674/WW_sim_674_TreePar_rescale.csv\n",
      "Encoding Vec trees\n"
     ]
    },
    {
     "name": "stderr",
     "output_type": "stream",
     "text": [
      "100%|██████████| 100/100 [00:01<00:00, 91.72it/s]\n"
     ]
    },
    {
     "name": "stdout",
     "output_type": "stream",
     "text": [
      "100  trees loaded\n",
      "Vectorized trees shape:  (600, 674)\n",
      "--------------------\n",
      "Labels:  ['/workspace/coniferas/simulations/simulations_no_fossil/treepar_dataset/674/BD_sim_674_TreePar_rescale.csv', '/workspace/coniferas/simulations/simulations_no_fossil/treepar_dataset/674/HE_sim_674_TreePar_rescale.csv', '/workspace/coniferas/simulations/simulations_no_fossil/treepar_dataset/674/ME_sim_674_TreePar_rescale.csv', '/workspace/coniferas/simulations/simulations_no_fossil/treepar_dataset/674/SAT_sim_674_TreePar_rescale.csv', '/workspace/coniferas/simulations/simulations_no_fossil/treepar_dataset/674/SR_sim_674_TreePar_rescale.csv', '/workspace/coniferas/simulations/simulations_no_fossil/treepar_dataset/674/WW_sim_674_TreePar_rescale.csv']\n",
      "Labels of the trees shape:  (600,)\n",
      "--------------------\n",
      "--------------------\n",
      "time shape:  (600,)\n",
      "frac0 shape:  (600,)\n",
      "frac1 shape:  (600,)\n",
      "r0 shape:  (600,)\n",
      "r1 shape:  (600,)\n",
      "a0 shape:  (600,)\n",
      "a1 shape:  (600,)\n",
      "--------------------\n",
      "resc_factor shape:  (600,)\n",
      "mu0 shape:  (600,)\n",
      "mu1 shape:  (600,)\n",
      "lambda0 shape:  (600,)\n",
      "lambda1 shape:  (600,)\n",
      "--------------------\n",
      "--------------------\n",
      "norm_time shape:  (600,)\n",
      "norm_frac0 shape:  (600,)\n",
      "norm_frac1 shape:  (600,)\n",
      "norm_r0 shape:  (600,)\n",
      "norm_r1 shape:  (600,)\n",
      "norm_a0 shape:  (600,)\n",
      "norm_a1 shape:  (600,)\n",
      "norm_mu0 shape:  (600,)\n",
      "norm_mu10 shape:  (600,)\n",
      "norm_lambda0 shape:  (600,)\n",
      "norm_lambda1 shape:  (600,)\n",
      "Loading trees from:  /workspace/coniferas/simulations/simulations_no_fossil/87_10k/BD_sim_10k_rescale.csv\n",
      "Encoding Vec trees\n"
     ]
    },
    {
     "name": "stderr",
     "output_type": "stream",
     "text": [
      "100%|██████████| 10000/10000 [00:12<00:00, 830.49it/s]\n"
     ]
    },
    {
     "name": "stdout",
     "output_type": "stream",
     "text": [
      "10000  trees loaded\n",
      "Loading trees from:  /workspace/coniferas/simulations/simulations_no_fossil/87_10k/HE_sim_10k_rescale.csv\n",
      "Encoding Vec trees\n"
     ]
    },
    {
     "name": "stderr",
     "output_type": "stream",
     "text": [
      "100%|██████████| 10000/10000 [00:12<00:00, 786.86it/s]\n"
     ]
    },
    {
     "name": "stdout",
     "output_type": "stream",
     "text": [
      "10000  trees loaded\n",
      "Loading trees from:  /workspace/coniferas/simulations/simulations_no_fossil/87_10k/ME_rho_sim_10k_rescale.csv\n",
      "Encoding Vec trees\n"
     ]
    },
    {
     "name": "stderr",
     "output_type": "stream",
     "text": [
      "100%|██████████| 10000/10000 [00:12<00:00, 782.39it/s]\n"
     ]
    },
    {
     "name": "stdout",
     "output_type": "stream",
     "text": [
      "10000  trees loaded\n",
      "Loading trees from:  /workspace/coniferas/simulations/simulations_no_fossil/87_10k/SAT_sim_10k_rescale.csv\n",
      "Encoding Vec trees\n"
     ]
    },
    {
     "name": "stderr",
     "output_type": "stream",
     "text": [
      "100%|██████████| 10000/10000 [00:12<00:00, 833.09it/s]\n"
     ]
    },
    {
     "name": "stdout",
     "output_type": "stream",
     "text": [
      "10000  trees loaded\n",
      "Loading trees from:  /workspace/coniferas/simulations/simulations_no_fossil/87_10k/SR_sim_10k_rescale.csv\n",
      "Encoding Vec trees\n"
     ]
    },
    {
     "name": "stderr",
     "output_type": "stream",
     "text": [
      "100%|██████████| 10000/10000 [00:12<00:00, 791.05it/s]\n"
     ]
    },
    {
     "name": "stdout",
     "output_type": "stream",
     "text": [
      "10000  trees loaded\n",
      "Loading trees from:  /workspace/coniferas/simulations/simulations_no_fossil/87_10k/WW_sim_10k_rescale.csv\n",
      "Encoding Vec trees\n"
     ]
    },
    {
     "name": "stderr",
     "output_type": "stream",
     "text": [
      "100%|██████████| 10000/10000 [00:12<00:00, 806.83it/s]\n"
     ]
    },
    {
     "name": "stdout",
     "output_type": "stream",
     "text": [
      "10000  trees loaded\n",
      "Vectorized trees shape:  (60000, 87)\n",
      "--------------------\n",
      "Labels:  ['/workspace/coniferas/simulations/simulations_no_fossil/87_10k/BD_sim_10k_rescale.csv', '/workspace/coniferas/simulations/simulations_no_fossil/87_10k/HE_sim_10k_rescale.csv', '/workspace/coniferas/simulations/simulations_no_fossil/87_10k/ME_rho_sim_10k_rescale.csv', '/workspace/coniferas/simulations/simulations_no_fossil/87_10k/SAT_sim_10k_rescale.csv', '/workspace/coniferas/simulations/simulations_no_fossil/87_10k/SR_sim_10k_rescale.csv', '/workspace/coniferas/simulations/simulations_no_fossil/87_10k/WW_sim_10k_rescale.csv']\n",
      "Labels of the trees shape:  (60000,)\n",
      "--------------------\n",
      "--------------------\n",
      "time shape:  (60000,)\n",
      "frac0 shape:  (60000,)\n",
      "frac1 shape:  (60000,)\n",
      "r0 shape:  (60000,)\n",
      "r1 shape:  (60000,)\n",
      "a0 shape:  (60000,)\n",
      "a1 shape:  (60000,)\n",
      "--------------------\n",
      "resc_factor shape:  (60000,)\n",
      "mu0 shape:  (60000,)\n",
      "mu1 shape:  (60000,)\n",
      "lambda0 shape:  (60000,)\n",
      "lambda1 shape:  (60000,)\n",
      "--------------------\n",
      "--------------------\n",
      "norm_time shape:  (60000,)\n",
      "norm_frac0 shape:  (60000,)\n",
      "norm_frac1 shape:  (60000,)\n",
      "norm_r0 shape:  (60000,)\n",
      "norm_r1 shape:  (60000,)\n",
      "norm_a0 shape:  (60000,)\n",
      "norm_a1 shape:  (60000,)\n",
      "norm_mu0 shape:  (60000,)\n",
      "norm_mu10 shape:  (60000,)\n",
      "norm_lambda0 shape:  (60000,)\n",
      "norm_lambda1 shape:  (60000,)\n",
      "Loading trees from:  /workspace/coniferas/simulations/simulations_no_fossil/489_10k/BD_sim_10k_rescale.csv\n",
      "Encoding Vec trees\n"
     ]
    },
    {
     "name": "stderr",
     "output_type": "stream",
     "text": [
      "100%|██████████| 10000/10000 [01:09<00:00, 143.21it/s]\n"
     ]
    },
    {
     "name": "stdout",
     "output_type": "stream",
     "text": [
      "10000  trees loaded\n",
      "Loading trees from:  /workspace/coniferas/simulations/simulations_no_fossil/489_10k/HE_sim_10k_rescale.csv\n",
      "Encoding Vec trees\n"
     ]
    },
    {
     "name": "stderr",
     "output_type": "stream",
     "text": [
      "100%|██████████| 10000/10000 [01:10<00:00, 142.32it/s]\n"
     ]
    },
    {
     "name": "stdout",
     "output_type": "stream",
     "text": [
      "10000  trees loaded\n",
      "Loading trees from:  /workspace/coniferas/simulations/simulations_no_fossil/489_10k/ME_rho_sim_10k_rescale.csv\n",
      "Encoding Vec trees\n"
     ]
    },
    {
     "name": "stderr",
     "output_type": "stream",
     "text": [
      "100%|██████████| 10000/10000 [01:14<00:00, 134.76it/s]\n"
     ]
    },
    {
     "name": "stdout",
     "output_type": "stream",
     "text": [
      "10000  trees loaded\n",
      "Loading trees from:  /workspace/coniferas/simulations/simulations_no_fossil/489_10k/SAT_sim_10k_rescale.csv\n",
      "Encoding Vec trees\n"
     ]
    },
    {
     "name": "stderr",
     "output_type": "stream",
     "text": [
      "100%|██████████| 10000/10000 [01:10<00:00, 141.24it/s]\n"
     ]
    },
    {
     "name": "stdout",
     "output_type": "stream",
     "text": [
      "10000  trees loaded\n",
      "Loading trees from:  /workspace/coniferas/simulations/simulations_no_fossil/489_10k/SR_sim_10k_rescale.csv\n",
      "Encoding Vec trees\n"
     ]
    },
    {
     "name": "stderr",
     "output_type": "stream",
     "text": [
      "100%|██████████| 10000/10000 [01:11<00:00, 139.34it/s]\n"
     ]
    },
    {
     "name": "stdout",
     "output_type": "stream",
     "text": [
      "10000  trees loaded\n",
      "Loading trees from:  /workspace/coniferas/simulations/simulations_no_fossil/489_10k/WW_sim_10k_rescale.csv\n",
      "Encoding Vec trees\n"
     ]
    },
    {
     "name": "stderr",
     "output_type": "stream",
     "text": [
      "100%|██████████| 10000/10000 [01:14<00:00, 134.95it/s]\n"
     ]
    },
    {
     "name": "stdout",
     "output_type": "stream",
     "text": [
      "10000  trees loaded\n",
      "Vectorized trees shape:  (60000, 489)\n",
      "--------------------\n",
      "Labels:  ['/workspace/coniferas/simulations/simulations_no_fossil/489_10k/BD_sim_10k_rescale.csv', '/workspace/coniferas/simulations/simulations_no_fossil/489_10k/HE_sim_10k_rescale.csv', '/workspace/coniferas/simulations/simulations_no_fossil/489_10k/ME_rho_sim_10k_rescale.csv', '/workspace/coniferas/simulations/simulations_no_fossil/489_10k/SAT_sim_10k_rescale.csv', '/workspace/coniferas/simulations/simulations_no_fossil/489_10k/SR_sim_10k_rescale.csv', '/workspace/coniferas/simulations/simulations_no_fossil/489_10k/WW_sim_10k_rescale.csv']\n",
      "Labels of the trees shape:  (60000,)\n",
      "--------------------\n",
      "--------------------\n",
      "time shape:  (60000,)\n",
      "frac0 shape:  (60000,)\n",
      "frac1 shape:  (60000,)\n",
      "r0 shape:  (60000,)\n",
      "r1 shape:  (60000,)\n",
      "a0 shape:  (60000,)\n",
      "a1 shape:  (60000,)\n",
      "--------------------\n",
      "resc_factor shape:  (60000,)\n",
      "mu0 shape:  (60000,)\n",
      "mu1 shape:  (60000,)\n",
      "lambda0 shape:  (60000,)\n",
      "lambda1 shape:  (60000,)\n",
      "--------------------\n",
      "--------------------\n",
      "norm_time shape:  (60000,)\n",
      "norm_frac0 shape:  (60000,)\n",
      "norm_frac1 shape:  (60000,)\n",
      "norm_r0 shape:  (60000,)\n",
      "norm_r1 shape:  (60000,)\n",
      "norm_a0 shape:  (60000,)\n",
      "norm_a1 shape:  (60000,)\n",
      "norm_mu0 shape:  (60000,)\n",
      "norm_mu10 shape:  (60000,)\n",
      "norm_lambda0 shape:  (60000,)\n",
      "norm_lambda1 shape:  (60000,)\n",
      "Loading trees from:  /workspace/coniferas/simulations/simulations_no_fossil/674_10k/BD_sim_10k_rescale.csv\n",
      "Encoding Vec trees\n"
     ]
    },
    {
     "name": "stderr",
     "output_type": "stream",
     "text": [
      "100%|██████████| 10000/10000 [01:53<00:00, 87.96it/s]\n"
     ]
    },
    {
     "name": "stdout",
     "output_type": "stream",
     "text": [
      "10000  trees loaded\n",
      "Loading trees from:  /workspace/coniferas/simulations/simulations_no_fossil/674_10k/HE_sim_10k_rescale.csv\n",
      "Encoding Vec trees\n"
     ]
    },
    {
     "name": "stderr",
     "output_type": "stream",
     "text": [
      "100%|██████████| 10000/10000 [01:52<00:00, 88.62it/s]\n"
     ]
    },
    {
     "name": "stdout",
     "output_type": "stream",
     "text": [
      "10000  trees loaded\n",
      "Loading trees from:  /workspace/coniferas/simulations/simulations_no_fossil/674_10k/ME_rho_sim_10k_rescale.csv\n",
      "Encoding Vec trees\n"
     ]
    },
    {
     "name": "stderr",
     "output_type": "stream",
     "text": [
      "100%|██████████| 10000/10000 [01:49<00:00, 91.46it/s]\n"
     ]
    },
    {
     "name": "stdout",
     "output_type": "stream",
     "text": [
      "10000  trees loaded\n",
      "Loading trees from:  /workspace/coniferas/simulations/simulations_no_fossil/674_10k/SAT_sim_10k_rescale.csv\n",
      "Encoding Vec trees\n"
     ]
    },
    {
     "name": "stderr",
     "output_type": "stream",
     "text": [
      "100%|██████████| 10000/10000 [01:54<00:00, 87.70it/s]\n"
     ]
    },
    {
     "name": "stdout",
     "output_type": "stream",
     "text": [
      "10000  trees loaded\n",
      "Loading trees from:  /workspace/coniferas/simulations/simulations_no_fossil/674_10k/SR_sim_10k_rescale.csv\n",
      "Encoding Vec trees\n"
     ]
    },
    {
     "name": "stderr",
     "output_type": "stream",
     "text": [
      "100%|██████████| 10000/10000 [01:52<00:00, 88.77it/s]\n"
     ]
    },
    {
     "name": "stdout",
     "output_type": "stream",
     "text": [
      "10000  trees loaded\n",
      "Loading trees from:  /workspace/coniferas/simulations/simulations_no_fossil/674_10k/WW_sim_10k_rescale.csv\n",
      "Encoding Vec trees\n"
     ]
    },
    {
     "name": "stderr",
     "output_type": "stream",
     "text": [
      "100%|██████████| 10000/10000 [01:51<00:00, 89.64it/s]\n"
     ]
    },
    {
     "name": "stdout",
     "output_type": "stream",
     "text": [
      "10000  trees loaded\n",
      "Vectorized trees shape:  (60000, 674)\n",
      "--------------------\n",
      "Labels:  ['/workspace/coniferas/simulations/simulations_no_fossil/674_10k/BD_sim_10k_rescale.csv', '/workspace/coniferas/simulations/simulations_no_fossil/674_10k/HE_sim_10k_rescale.csv', '/workspace/coniferas/simulations/simulations_no_fossil/674_10k/ME_rho_sim_10k_rescale.csv', '/workspace/coniferas/simulations/simulations_no_fossil/674_10k/SAT_sim_10k_rescale.csv', '/workspace/coniferas/simulations/simulations_no_fossil/674_10k/SR_sim_10k_rescale.csv', '/workspace/coniferas/simulations/simulations_no_fossil/674_10k/WW_sim_10k_rescale.csv']\n",
      "Labels of the trees shape:  (60000,)\n",
      "--------------------\n",
      "--------------------\n",
      "time shape:  (60000,)\n",
      "frac0 shape:  (60000,)\n",
      "frac1 shape:  (60000,)\n",
      "r0 shape:  (60000,)\n",
      "r1 shape:  (60000,)\n",
      "a0 shape:  (60000,)\n",
      "a1 shape:  (60000,)\n",
      "--------------------\n",
      "resc_factor shape:  (60000,)\n",
      "mu0 shape:  (60000,)\n",
      "mu1 shape:  (60000,)\n",
      "lambda0 shape:  (60000,)\n",
      "lambda1 shape:  (60000,)\n",
      "--------------------\n",
      "--------------------\n",
      "norm_time shape:  (60000,)\n",
      "norm_frac0 shape:  (60000,)\n",
      "norm_frac1 shape:  (60000,)\n",
      "norm_r0 shape:  (60000,)\n",
      "norm_r1 shape:  (60000,)\n",
      "norm_a0 shape:  (60000,)\n",
      "norm_a1 shape:  (60000,)\n",
      "norm_mu0 shape:  (60000,)\n",
      "norm_mu10 shape:  (60000,)\n",
      "norm_lambda0 shape:  (60000,)\n",
      "norm_lambda1 shape:  (60000,)\n"
     ]
    }
   ],
   "source": [
    "for file_set in files:\n",
    "    raw_dataset = load_dataset_vec(file_set)\n",
    "    show_dataset_features(raw_dataset)\n",
    "    \n",
    "    os.makedirs(\"/workspace/coniferas(1)/data_inference/pickles/\" +\n",
    "                os.path.dirname(file_set[0]).split('/')[-2] + '/', exist_ok=True)\n",
    "\n",
    "    with open(\"/workspace/coniferas(1)/data_inference/pickles/\" +\n",
    "              os.path.dirname(file_set[0]).split('/')[-2] + '/raw_' + \n",
    "              os.path.dirname(file_set[0]).split('/')[-1] +'.pkl', 'wb') as f:\n",
    "        pickle.dump(raw_dataset, f)"
   ]
  },
  {
   "cell_type": "code",
   "execution_count": null,
   "metadata": {},
   "outputs": [],
   "source": []
  }
 ],
 "metadata": {
  "kernelspec": {
   "display_name": "Python 3",
   "language": "python",
   "name": "python3"
  },
  "language_info": {
   "codemirror_mode": {
    "name": "ipython",
    "version": 3
   },
   "file_extension": ".py",
   "mimetype": "text/x-python",
   "name": "python",
   "nbconvert_exporter": "python",
   "pygments_lexer": "ipython3",
   "version": "3.8.5"
  },
  "toc": {
   "base_numbering": 1,
   "nav_menu": {},
   "number_sections": false,
   "sideBar": true,
   "skip_h1_title": false,
   "title_cell": "Table of Contents",
   "title_sidebar": "Contents",
   "toc_cell": false,
   "toc_position": {},
   "toc_section_display": true,
   "toc_window_display": false
  },
  "varInspector": {
   "cols": {
    "lenName": 16,
    "lenType": 16,
    "lenVar": 40
   },
   "kernels_config": {
    "python": {
     "delete_cmd_postfix": "",
     "delete_cmd_prefix": "del ",
     "library": "var_list.py",
     "varRefreshCmd": "print(var_dic_list())"
    },
    "r": {
     "delete_cmd_postfix": ") ",
     "delete_cmd_prefix": "rm(",
     "library": "var_list.r",
     "varRefreshCmd": "cat(var_dic_list()) "
    }
   },
   "types_to_exclude": [
    "module",
    "function",
    "builtin_function_or_method",
    "instance",
    "_Feature"
   ],
   "window_display": false
  }
 },
 "nbformat": 4,
 "nbformat_minor": 4
}
